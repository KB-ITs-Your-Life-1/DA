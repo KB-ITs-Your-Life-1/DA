{
 "cells": [
  {
   "cell_type": "code",
   "execution_count": 1,
   "id": "a46ddbcf",
   "metadata": {},
   "outputs": [],
   "source": [
    "import requests\n",
    "import sys\n",
    "from bs4 import BeautifulSoup\n",
    "from selenium import webdriver\n",
    "from selenium.webdriver.common.by import By"
   ]
  },
  {
   "cell_type": "markdown",
   "id": "fcd74611",
   "metadata": {},
   "source": [
    "### 정보하나 크롤링"
   ]
  },
  {
   "cell_type": "code",
   "execution_count": null,
   "id": "3b84ede8",
   "metadata": {},
   "outputs": [],
   "source": [
    "url = 'https://nedrug.mfds.go.kr/searchDrug?sort=&sortOrder=false&searchYn=true&ExcelRowdata=&page=1&searchDivision=detail&itemName=&entpName=&ingrName1=&ingrName2=&ingrName3=&itemSeq=&stdrCodeName=&atcCodeName=&indutyClassCode=A0&sClassNo=&narcoticKindCode=&cancelCode=&etcOtcCode=&makeMaterialGb=&searchConEe=AND&eeDocData=&searchConUd=AND&udDocData=&searchConNb=AND&nbDocData=&startPermitDate=&endPermitDate='"
   ]
  },
  {
   "cell_type": "code",
   "execution_count": null,
   "id": "a03336ad",
   "metadata": {},
   "outputs": [],
   "source": [
    "driver = webdriver.Chrome('./chromedriver')"
   ]
  },
  {
   "cell_type": "code",
   "execution_count": null,
   "id": "bb0d5cd0",
   "metadata": {},
   "outputs": [],
   "source": [
    "driver.get(url)\n",
    "driver.maximize_window()"
   ]
  },
  {
   "cell_type": "markdown",
   "id": "a85c1241",
   "metadata": {},
   "source": [
    "### xpath로 '제품명' 선택하기\n",
    "\n",
    "규칙 \n",
    "1. //*[@id=\"con_body\"]/div[2]/div[3]/div[3]/table/tbody/tr[1]/td[2]/span[2]/a\n",
    "2. //*[@id=\"con_body\"]/div[2]/div[3]/div[3]/table/tbody/tr[2]/td[2]/span[2]/a\n",
    "3. //*[@id=\"con_body\"]/div[2]/div[3]/div[3]/table/tbody/tr[3]/td[2]/span[2]/a"
   ]
  },
  {
   "cell_type": "code",
   "execution_count": null,
   "id": "48e38ce9",
   "metadata": {},
   "outputs": [],
   "source": [
    "i = 1\n",
    "xpath = f'//*[@id=\"con_body\"]/div[2]/div[3]/div[3]/table/tbody/tr[{i}]/td[2]/span[2]/a'\n",
    "tem = driver.find_element_by_xpath(xpath)\n",
    "tem.click()"
   ]
  },
  {
   "cell_type": "markdown",
   "id": "f40d70f8",
   "metadata": {},
   "source": [
    "### tap 이동"
   ]
  },
  {
   "cell_type": "code",
   "execution_count": null,
   "id": "9ddc712c",
   "metadata": {},
   "outputs": [],
   "source": [
    "driver.window_handles \n",
    "last_tab = driver.window_handles[-1]\n",
    "driver.switch_to.window(window_name=last_tab)"
   ]
  },
  {
   "cell_type": "code",
   "execution_count": null,
   "id": "c92a8543",
   "metadata": {},
   "outputs": [],
   "source": [
    "#제품명\n",
    "name_selector = '#content > section > div.drug_info_top.notPkInfo.not_button > div.r_sec > table > tbody > tr:nth-child(1) > td > span'\n",
    "# '#content > section > div.drug_info_top.notPkInfo.not_button > div.r_sec > table > tbody > tr:nth-child(1) > td > span'\n",
    "name = soup.select_one(name_selector).get_text()\n",
    "name\n",
    "\n"
   ]
  },
  {
   "cell_type": "code",
   "execution_count": null,
   "id": "5fe435b9",
   "metadata": {},
   "outputs": [],
   "source": [
    "#제조(수입) 업체명\n",
    "botton4 = soup.select('#content > section > div.drug_info_top.notPkInfo.not_button > div.r_sec > table > tbody > tr:nth-child(4) > th')[0].get_text()\n",
    "if botton4 == '업체명':\n",
    "    company_selector = '#content > section > div.drug_info_top.notPkInfo.not_button > div.r_sec > table > tbody > tr:nth-child(4) > td > button'\n",
    "    company = soup.select_one(company_selector).get_text()\n",
    "    company\n",
    "\n",
    "else:\n",
    "    company_selector = '#content > section > div.drug_info_top.notPkInfo.not_button > div.r_sec > table > tbody > tr:nth-child(3) > td > button'\n",
    "    company = soup.select_one(company_selector).get_text()\n",
    "    company\n",
    "\n",
    "company"
   ]
  },
  {
   "cell_type": "code",
   "execution_count": null,
   "id": "943f20c3",
   "metadata": {},
   "outputs": [],
   "source": [
    "# 원료약품 및 분량\n",
    "ingredients_selector = '#scroll_02 > h3'\n",
    "if not(soup.select_one(ingredients_selector)is None):\n",
    "    ingredients = soup.select_one(ingredients_selector).get_text()\n",
    "    ingredients"
   ]
  },
  {
   "cell_type": "code",
   "execution_count": null,
   "id": "3a916c7e",
   "metadata": {},
   "outputs": [],
   "source": [
    "# 효능효과\n",
    "effect_selector = '#_ee_doc p'\n",
    "effect = ''\n",
    "if not(soup.select(effect_selector) is None):\n",
    "    for i in range(len(soup.select(effect_selector))):\n",
    "        effect += soup.select(effect_selector)[i].get_text()\n",
    "        effect += '\\n'\n",
    "print(effect)\n",
    "    \n",
    "    "
   ]
  },
  {
   "cell_type": "code",
   "execution_count": null,
   "id": "c825f118",
   "metadata": {},
   "outputs": [],
   "source": [
    "# 용법용량\n",
    "usage_selector = '#_ud_doc'\n",
    "if not(soup.select(usage_selector) is None):\n",
    "    for i in range(len(soup.select(usage_selector))):\n",
    "        usage = soup.select(usage_selector)[i].get_text()\n",
    "usage"
   ]
  },
  {
   "cell_type": "code",
   "execution_count": null,
   "id": "1df96cc5",
   "metadata": {},
   "outputs": [],
   "source": [
    "# 사용상의주의사항\n",
    "caution_selector = '#_nb_doc'\n",
    "if not(soup.select(caution_selector) is None):\n",
    "    for i in range(len(soup.select(caution_selector))):\n",
    "        caution = soup.select(caution_selector)[i].get_text()\n",
    "    caution = caution.strip()\n",
    "caution\n"
   ]
  },
  {
   "cell_type": "code",
   "execution_count": null,
   "id": "d528c9f3",
   "metadata": {},
   "outputs": [],
   "source": [
    "#이미지\n",
    "image_selector='#scroll_01 > div > div > img'\n",
    "image=''\n",
    "if (len(soup.select(image_selector))== 0):\n",
    "    print(\"이미지없음\")\n",
    "else :\n",
    "    image = soup.select(image_selector)[0].get('src')\n",
    "    \n",
    "image"
   ]
  },
  {
   "cell_type": "markdown",
   "id": "312a241e",
   "metadata": {},
   "source": [
    "# 전체 (5만건) 크롤링"
   ]
  },
  {
   "cell_type": "code",
   "execution_count": 1,
   "id": "10f0b444",
   "metadata": {},
   "outputs": [],
   "source": [
    "import requests\n",
    "import sys\n",
    "from bs4 import BeautifulSoup\n",
    "from selenium import webdriver\n",
    "from selenium.webdriver.common.by import By\n",
    "import pandas as pd\n",
    "import numpy as np\n",
    "import datetime"
   ]
  },
  {
   "cell_type": "code",
   "execution_count": 2,
   "id": "c1790268",
   "metadata": {},
   "outputs": [
    {
     "data": {
      "text/plain": [
       "datetime.datetime(2022, 5, 8, 23, 58, 24, 634465)"
      ]
     },
     "execution_count": 2,
     "metadata": {},
     "output_type": "execute_result"
    }
   ],
   "source": [
    "datetime.datetime.now() #5월 3일 0시 17분 32초 "
   ]
  },
  {
   "cell_type": "code",
   "execution_count": 20,
   "id": "273833ee",
   "metadata": {},
   "outputs": [],
   "source": [
    "df_usage = pd.DataFrame()\n",
    "df_caution = pd.DataFrame()"
   ]
  },
  {
   "cell_type": "code",
   "execution_count": 4,
   "id": "b1359a97",
   "metadata": {
    "scrolled": true
   },
   "outputs": [
    {
     "name": "stderr",
     "output_type": "stream",
     "text": [
      "C:\\Users\\user\\AppData\\Local\\Temp/ipykernel_11468/1227325918.py:2: DeprecationWarning: executable_path has been deprecated, please pass in a Service object\n",
      "  driver = webdriver.Chrome('./chromedriver')\n"
     ]
    }
   ],
   "source": [
    "url = 'https://nedrug.mfds.go.kr/searchDrug?sort=&sortOrder=false&searchYn=&ExcelRowdata=&page=1439&searchDivision=detail&itemName=&entpName=&ingrName1=&ingrName2=&ingrName3=&itemSeq=&stdrCodeName=&atcCodeName=&indutyClassCode=A0&sClassNo=&narcoticKindCode=&cancelCode=&etcOtcCode=&makeMaterialGb=&searchConEe=AND&eeDocData=&searchConUd=AND&udDocData=&searchConNb=AND&nbDocData=&startPermitDate=&endPermitDate='\n",
    "driver = webdriver.Chrome('./chromedriver')\n",
    "driver.get(url)\n",
    "driver.maximize_window()"
   ]
  },
  {
   "cell_type": "code",
   "execution_count": 21,
   "id": "284d387b",
   "metadata": {},
   "outputs": [
    {
     "name": "stderr",
     "output_type": "stream",
     "text": [
      "C:\\Users\\user\\AppData\\Local\\Temp/ipykernel_11468/2295645617.py:28: DeprecationWarning: find_element_by_xpath is deprecated. Please use find_element(by=By.XPATH, value=xpath) instead\n",
      "  tem = driver.find_element_by_xpath(xpath)\n"
     ]
    },
    {
     "ename": "NoSuchElementException",
     "evalue": "Message: no such element: Unable to locate element: {\"method\":\"xpath\",\"selector\":\"//*[@id=\"con_body\"]/div[2]/div[3]/div[3]/table/tbody/tr[15]/td[2]/span[2]/a\"}\n  (Session info: chrome=101.0.4951.54)\nStacktrace:\nBacktrace:\n\tOrdinal0 [0x00A67413+2389011]\n\tOrdinal0 [0x009F9F61+1941345]\n\tOrdinal0 [0x008EC658+837208]\n\tOrdinal0 [0x009191DD+1020381]\n\tOrdinal0 [0x0091949B+1021083]\n\tOrdinal0 [0x00946032+1204274]\n\tOrdinal0 [0x00934194+1130900]\n\tOrdinal0 [0x00944302+1196802]\n\tOrdinal0 [0x00933F66+1130342]\n\tOrdinal0 [0x0090E546+976198]\n\tOrdinal0 [0x0090F456+980054]\n\tGetHandleVerifier [0x00C19632+1727522]\n\tGetHandleVerifier [0x00CCBA4D+2457661]\n\tGetHandleVerifier [0x00AFEB81+569713]\n\tGetHandleVerifier [0x00AFDD76+566118]\n\tOrdinal0 [0x00A00B2B+1968939]\n\tOrdinal0 [0x00A05988+1989000]\n\tOrdinal0 [0x00A05A75+1989237]\n\tOrdinal0 [0x00A0ECB1+2026673]\n\tBaseThreadInitThunk [0x75E1FA29+25]\n\tRtlGetAppContainerNamedObjectPath [0x77457A7E+286]\n\tRtlGetAppContainerNamedObjectPath [0x77457A4E+238]\n",
     "output_type": "error",
     "traceback": [
      "\u001b[1;31m---------------------------------------------------------------------------\u001b[0m",
      "\u001b[1;31mNoSuchElementException\u001b[0m                    Traceback (most recent call last)",
      "\u001b[1;32m~\\AppData\\Local\\Temp/ipykernel_11468/2295645617.py\u001b[0m in \u001b[0;36m<module>\u001b[1;34m\u001b[0m\n\u001b[0;32m     26\u001b[0m         \u001b[1;31m#제품명 선택\u001b[0m\u001b[1;33m\u001b[0m\u001b[1;33m\u001b[0m\u001b[0m\n\u001b[0;32m     27\u001b[0m         \u001b[0mxpath\u001b[0m \u001b[1;33m=\u001b[0m \u001b[1;34mf'//*[@id=\"con_body\"]/div[2]/div[3]/div[3]/table/tbody/tr[{item+1}]/td[2]/span[2]/a'\u001b[0m\u001b[1;33m\u001b[0m\u001b[1;33m\u001b[0m\u001b[0m\n\u001b[1;32m---> 28\u001b[1;33m         \u001b[0mtem\u001b[0m \u001b[1;33m=\u001b[0m \u001b[0mdriver\u001b[0m\u001b[1;33m.\u001b[0m\u001b[0mfind_element_by_xpath\u001b[0m\u001b[1;33m(\u001b[0m\u001b[0mxpath\u001b[0m\u001b[1;33m)\u001b[0m\u001b[1;33m\u001b[0m\u001b[1;33m\u001b[0m\u001b[0m\n\u001b[0m\u001b[0;32m     29\u001b[0m         \u001b[0mtem\u001b[0m\u001b[1;33m.\u001b[0m\u001b[0mclick\u001b[0m\u001b[1;33m(\u001b[0m\u001b[1;33m)\u001b[0m\u001b[1;33m\u001b[0m\u001b[1;33m\u001b[0m\u001b[0m\n\u001b[0;32m     30\u001b[0m \u001b[1;33m\u001b[0m\u001b[0m\n",
      "\u001b[1;32mC:\\Anaconda3\\lib\\site-packages\\selenium\\webdriver\\remote\\webdriver.py\u001b[0m in \u001b[0;36mfind_element_by_xpath\u001b[1;34m(self, xpath)\u001b[0m\n\u001b[0;32m    519\u001b[0m             \u001b[0mstacklevel\u001b[0m\u001b[1;33m=\u001b[0m\u001b[1;36m2\u001b[0m\u001b[1;33m,\u001b[0m\u001b[1;33m\u001b[0m\u001b[1;33m\u001b[0m\u001b[0m\n\u001b[0;32m    520\u001b[0m         )\n\u001b[1;32m--> 521\u001b[1;33m         \u001b[1;32mreturn\u001b[0m \u001b[0mself\u001b[0m\u001b[1;33m.\u001b[0m\u001b[0mfind_element\u001b[0m\u001b[1;33m(\u001b[0m\u001b[0mby\u001b[0m\u001b[1;33m=\u001b[0m\u001b[0mBy\u001b[0m\u001b[1;33m.\u001b[0m\u001b[0mXPATH\u001b[0m\u001b[1;33m,\u001b[0m \u001b[0mvalue\u001b[0m\u001b[1;33m=\u001b[0m\u001b[0mxpath\u001b[0m\u001b[1;33m)\u001b[0m\u001b[1;33m\u001b[0m\u001b[1;33m\u001b[0m\u001b[0m\n\u001b[0m\u001b[0;32m    522\u001b[0m \u001b[1;33m\u001b[0m\u001b[0m\n\u001b[0;32m    523\u001b[0m     \u001b[1;32mdef\u001b[0m \u001b[0mfind_elements_by_xpath\u001b[0m\u001b[1;33m(\u001b[0m\u001b[0mself\u001b[0m\u001b[1;33m,\u001b[0m \u001b[0mxpath\u001b[0m\u001b[1;33m)\u001b[0m \u001b[1;33m->\u001b[0m \u001b[0mList\u001b[0m\u001b[1;33m[\u001b[0m\u001b[0mWebElement\u001b[0m\u001b[1;33m]\u001b[0m\u001b[1;33m:\u001b[0m\u001b[1;33m\u001b[0m\u001b[1;33m\u001b[0m\u001b[0m\n",
      "\u001b[1;32mC:\\Anaconda3\\lib\\site-packages\\selenium\\webdriver\\remote\\webdriver.py\u001b[0m in \u001b[0;36mfind_element\u001b[1;34m(self, by, value)\u001b[0m\n\u001b[0;32m   1246\u001b[0m             \u001b[0mvalue\u001b[0m \u001b[1;33m=\u001b[0m \u001b[1;34m'[name=\"%s\"]'\u001b[0m \u001b[1;33m%\u001b[0m \u001b[0mvalue\u001b[0m\u001b[1;33m\u001b[0m\u001b[1;33m\u001b[0m\u001b[0m\n\u001b[0;32m   1247\u001b[0m \u001b[1;33m\u001b[0m\u001b[0m\n\u001b[1;32m-> 1248\u001b[1;33m         return self.execute(Command.FIND_ELEMENT, {\n\u001b[0m\u001b[0;32m   1249\u001b[0m             \u001b[1;34m'using'\u001b[0m\u001b[1;33m:\u001b[0m \u001b[0mby\u001b[0m\u001b[1;33m,\u001b[0m\u001b[1;33m\u001b[0m\u001b[1;33m\u001b[0m\u001b[0m\n\u001b[0;32m   1250\u001b[0m             'value': value})['value']\n",
      "\u001b[1;32mC:\\Anaconda3\\lib\\site-packages\\selenium\\webdriver\\remote\\webdriver.py\u001b[0m in \u001b[0;36mexecute\u001b[1;34m(self, driver_command, params)\u001b[0m\n\u001b[0;32m    423\u001b[0m         \u001b[0mresponse\u001b[0m \u001b[1;33m=\u001b[0m \u001b[0mself\u001b[0m\u001b[1;33m.\u001b[0m\u001b[0mcommand_executor\u001b[0m\u001b[1;33m.\u001b[0m\u001b[0mexecute\u001b[0m\u001b[1;33m(\u001b[0m\u001b[0mdriver_command\u001b[0m\u001b[1;33m,\u001b[0m \u001b[0mparams\u001b[0m\u001b[1;33m)\u001b[0m\u001b[1;33m\u001b[0m\u001b[1;33m\u001b[0m\u001b[0m\n\u001b[0;32m    424\u001b[0m         \u001b[1;32mif\u001b[0m \u001b[0mresponse\u001b[0m\u001b[1;33m:\u001b[0m\u001b[1;33m\u001b[0m\u001b[1;33m\u001b[0m\u001b[0m\n\u001b[1;32m--> 425\u001b[1;33m             \u001b[0mself\u001b[0m\u001b[1;33m.\u001b[0m\u001b[0merror_handler\u001b[0m\u001b[1;33m.\u001b[0m\u001b[0mcheck_response\u001b[0m\u001b[1;33m(\u001b[0m\u001b[0mresponse\u001b[0m\u001b[1;33m)\u001b[0m\u001b[1;33m\u001b[0m\u001b[1;33m\u001b[0m\u001b[0m\n\u001b[0m\u001b[0;32m    426\u001b[0m             response['value'] = self._unwrap_value(\n\u001b[0;32m    427\u001b[0m                 response.get('value', None))\n",
      "\u001b[1;32mC:\\Anaconda3\\lib\\site-packages\\selenium\\webdriver\\remote\\errorhandler.py\u001b[0m in \u001b[0;36mcheck_response\u001b[1;34m(self, response)\u001b[0m\n\u001b[0;32m    245\u001b[0m                 \u001b[0malert_text\u001b[0m \u001b[1;33m=\u001b[0m \u001b[0mvalue\u001b[0m\u001b[1;33m[\u001b[0m\u001b[1;34m'alert'\u001b[0m\u001b[1;33m]\u001b[0m\u001b[1;33m.\u001b[0m\u001b[0mget\u001b[0m\u001b[1;33m(\u001b[0m\u001b[1;34m'text'\u001b[0m\u001b[1;33m)\u001b[0m\u001b[1;33m\u001b[0m\u001b[1;33m\u001b[0m\u001b[0m\n\u001b[0;32m    246\u001b[0m             \u001b[1;32mraise\u001b[0m \u001b[0mexception_class\u001b[0m\u001b[1;33m(\u001b[0m\u001b[0mmessage\u001b[0m\u001b[1;33m,\u001b[0m \u001b[0mscreen\u001b[0m\u001b[1;33m,\u001b[0m \u001b[0mstacktrace\u001b[0m\u001b[1;33m,\u001b[0m \u001b[0malert_text\u001b[0m\u001b[1;33m)\u001b[0m  \u001b[1;31m# type: ignore[call-arg]  # mypy is not smart enough here\u001b[0m\u001b[1;33m\u001b[0m\u001b[1;33m\u001b[0m\u001b[0m\n\u001b[1;32m--> 247\u001b[1;33m         \u001b[1;32mraise\u001b[0m \u001b[0mexception_class\u001b[0m\u001b[1;33m(\u001b[0m\u001b[0mmessage\u001b[0m\u001b[1;33m,\u001b[0m \u001b[0mscreen\u001b[0m\u001b[1;33m,\u001b[0m \u001b[0mstacktrace\u001b[0m\u001b[1;33m)\u001b[0m\u001b[1;33m\u001b[0m\u001b[1;33m\u001b[0m\u001b[0m\n\u001b[0m\u001b[0;32m    248\u001b[0m \u001b[1;33m\u001b[0m\u001b[0m\n\u001b[0;32m    249\u001b[0m     \u001b[1;32mdef\u001b[0m \u001b[0m_value_or_default\u001b[0m\u001b[1;33m(\u001b[0m\u001b[0mself\u001b[0m\u001b[1;33m,\u001b[0m \u001b[0mobj\u001b[0m\u001b[1;33m:\u001b[0m \u001b[0mMapping\u001b[0m\u001b[1;33m[\u001b[0m\u001b[0m_KT\u001b[0m\u001b[1;33m,\u001b[0m \u001b[0m_VT\u001b[0m\u001b[1;33m]\u001b[0m\u001b[1;33m,\u001b[0m \u001b[0mkey\u001b[0m\u001b[1;33m:\u001b[0m \u001b[0m_KT\u001b[0m\u001b[1;33m,\u001b[0m \u001b[0mdefault\u001b[0m\u001b[1;33m:\u001b[0m \u001b[0m_VT\u001b[0m\u001b[1;33m)\u001b[0m \u001b[1;33m->\u001b[0m \u001b[0m_VT\u001b[0m\u001b[1;33m:\u001b[0m\u001b[1;33m\u001b[0m\u001b[1;33m\u001b[0m\u001b[0m\n",
      "\u001b[1;31mNoSuchElementException\u001b[0m: Message: no such element: Unable to locate element: {\"method\":\"xpath\",\"selector\":\"//*[@id=\"con_body\"]/div[2]/div[3]/div[3]/table/tbody/tr[15]/td[2]/span[2]/a\"}\n  (Session info: chrome=101.0.4951.54)\nStacktrace:\nBacktrace:\n\tOrdinal0 [0x00A67413+2389011]\n\tOrdinal0 [0x009F9F61+1941345]\n\tOrdinal0 [0x008EC658+837208]\n\tOrdinal0 [0x009191DD+1020381]\n\tOrdinal0 [0x0091949B+1021083]\n\tOrdinal0 [0x00946032+1204274]\n\tOrdinal0 [0x00934194+1130900]\n\tOrdinal0 [0x00944302+1196802]\n\tOrdinal0 [0x00933F66+1130342]\n\tOrdinal0 [0x0090E546+976198]\n\tOrdinal0 [0x0090F456+980054]\n\tGetHandleVerifier [0x00C19632+1727522]\n\tGetHandleVerifier [0x00CCBA4D+2457661]\n\tGetHandleVerifier [0x00AFEB81+569713]\n\tGetHandleVerifier [0x00AFDD76+566118]\n\tOrdinal0 [0x00A00B2B+1968939]\n\tOrdinal0 [0x00A05988+1989000]\n\tOrdinal0 [0x00A05A75+1989237]\n\tOrdinal0 [0x00A0ECB1+2026673]\n\tBaseThreadInitThunk [0x75E1FA29+25]\n\tRtlGetAppContainerNamedObjectPath [0x77457A7E+286]\n\tRtlGetAppContainerNamedObjectPath [0x77457A4E+238]\n"
     ]
    }
   ],
   "source": [
    "# 제품명 name\n",
    "# 업체명 company\n",
    "# 원료약품 및 분량 ingredient \n",
    "# 효능효과 effect\n",
    "# 성상 description \n",
    "# 모양 shape\n",
    "\n",
    "# 용법용량 usage => 테이블\n",
    "# 사용상의주의사항 caution => 테이블\n",
    "\n",
    "name_list = []\n",
    "company_list = []\n",
    "ingredients_list=[]\n",
    "effect_list = []\n",
    "image_list=[]\n",
    "description_list = []\n",
    "shape_list = []\n",
    "\n",
    "# url = 'https://nedrug.mfds.go.kr/searchDrug?sort=&sortOrder=false&searchYn=true&ExcelRowdata=&page=1&searchDivision=detail&itemName=&entpName=&ingrName1=&ingrName2=&ingrName3=&itemSeq=&stdrCodeName=&atcCodeName=&indutyClassCode=A0&sClassNo=&narcoticKindCode=&cancelCode=&etcOtcCode=&makeMaterialGb=&searchConEe=AND&eeDocData=&searchConUd=AND&udDocData=&searchConNb=AND&nbDocData=&startPermitDate=&endPermitDate='\n",
    "# driver = webdriver.Chrome('./chromedriver')\n",
    "# driver.get(url)\n",
    "# driver.maximize_window()\n",
    "\n",
    "for step in range(1,10000): # 페이지수\n",
    "    for item in range(1,15): #한페이지의 데이터 수 \n",
    "        #제품명 선택\n",
    "        xpath = f'//*[@id=\"con_body\"]/div[2]/div[3]/div[3]/table/tbody/tr[{item+1}]/td[2]/span[2]/a'\n",
    "        tem = driver.find_element_by_xpath(xpath)\n",
    "        tem.click()\n",
    "        \n",
    "        #탭이동\n",
    "        last_tab = driver.window_handles[-1]\n",
    "        driver.switch_to.window(window_name=last_tab)\n",
    "        \n",
    "        #html받아오기\n",
    "        html = driver.page_source\n",
    "        soup = BeautifulSoup(html, 'html.parser')\n",
    "        \n",
    "        \n",
    "        # 제품명\n",
    "        name_selector = '#content > section > div.drug_info_top.notPkInfo.not_button > div.r_sec > table > tbody > tr:nth-child(1) > td > span'\n",
    "        name=''\n",
    "        name = soup.select_one(name_selector).get_text()\n",
    "        name_list.append(name)\n",
    "        \n",
    "        #성상\n",
    "        description_selector = '#content > section > div.drug_info_top.notPkInfo.not_button > div.r_sec > table > tbody > tr:nth-child(2) > td'\n",
    "        description = ''\n",
    "        description= soup.select_one(description_selector).get_text()\n",
    "        description_list.append(description)\n",
    "        \n",
    "        # 모양\n",
    "        botton3 = soup.select_one('#content > section > div.drug_info_top.notPkInfo.not_button > div.r_sec > table > tbody > tr:nth-child(3) > th').get_text()\n",
    "        if botton3 == '모양':\n",
    "            shape_selector = '#content > section > div.drug_info_top.notPkInfo.not_button > div.r_sec > table > tbody > tr:nth-child(3) > td'\n",
    "            shape = ''\n",
    "            shape = soup.select_one(shape_selector).get_text()\n",
    "            shape_list.append(shape)\n",
    "        else :\n",
    "            shape_list.append(np.nan)\n",
    "            \n",
    "        \n",
    "        #제조(수입) 업체명\n",
    "        botton4 = soup.select_one('#content > section > div.drug_info_top.notPkInfo.not_button > div.r_sec > table > tbody > tr:nth-child(4) > th').get_text()\n",
    "        if botton4 == '업체명':\n",
    "            company_selector = '#content > section > div.drug_info_top.notPkInfo.not_button > div.r_sec > table > tbody > tr:nth-child(4) > td > button'\n",
    "            company = soup.select_one(company_selector).get_text()\n",
    "            company_list.append(company)\n",
    "\n",
    "        else:\n",
    "            company_selector = '#content > section > div.drug_info_top.notPkInfo.not_button > div.r_sec > table > tbody > tr:nth-child(3) > td > button'\n",
    "            company = soup.select_one(company_selector).get_text()\n",
    "            company_list.append(company)\n",
    "\n",
    "        # 원료약품 및 분량\n",
    "        ingredients_selector = '#scroll_02 > h3'\n",
    "        ingredients=np.nan\n",
    "        if not(soup.select_one(ingredients_selector)is None):\n",
    "            ingredients = soup.select_one(ingredients_selector).get_text()\n",
    "        ingredients_list.append(ingredients)\n",
    "\n",
    "        # 효능효과\n",
    "        effect_selector = '#_ee_doc p'\n",
    "        effect = ''\n",
    "        if not(soup.select(effect_selector) is None):\n",
    "            for i in range(len(soup.select(effect_selector))):\n",
    "                effect += soup.select(effect_selector)[i].get_text()\n",
    "                effect += '\\n'\n",
    "        effect_list.append(effect)\n",
    "        \n",
    "        #이미지\n",
    "        image_selector='#scroll_01 > div > div > img'\n",
    "        image=np.nan\n",
    "        if (len(soup.select(image_selector))!= 0):\n",
    "            image = soup.select(image_selector)[0].get('src')\n",
    "            image_list.append(image)\n",
    "        else :\n",
    "            image_list.append(image)\n",
    "            \n",
    "        # 용법용량\n",
    "        ## 용법 내의 테이블 삭제하기 \n",
    "        for i in soup.select('#_ud_doc table'):\n",
    "            i.decompose()\n",
    "            \n",
    "        ## 용법 내의 테이블 div 삭제하기 \n",
    "        for i in soup.select('#_ud_doc ._table_wrap_out'):\n",
    "            i.decompose()\n",
    "\n",
    "        usage_name_list = []\n",
    "        usage_index = []\n",
    "        usage_contents = []\n",
    "\n",
    "        ##usage_name받기 \n",
    "        usage_name = soup.select_one('#content > section > div.drug_info_top.notPkInfo.not_button > div.r_sec > table > tbody > tr:nth-child(1) > td > span').get_text()\n",
    "        usage_name_list.append(usage_name)\n",
    "\n",
    "        children = soup.select_one('#_ud_doc').findChildren()\n",
    "\n",
    "        chidren_tag_list = [] \n",
    "        for i in soup.select_one('#_ud_doc').findChildren():\n",
    "            chidren_tag_list.append(i.name)\n",
    "\n",
    "        if (set(chidren_tag_list) == {'p'}): #div없이 p만 있는 경우 \n",
    "            for i in soup.select_one('#_ud_doc').findChildren():\n",
    "                usage_index.append(i.get_text())\n",
    "                usage_contents.append(np.nan)\n",
    "\n",
    "        else: ##div와 p가 모두 있는 경우 \n",
    "\n",
    "            ##손자뻘 되는 데이터는 전부 삭제. \n",
    "            for i, child in enumerate(children):\n",
    "                if (len(child.findChildren()) != 0):\n",
    "                    del children[i+1:i+1+len(child.findChildren())]\n",
    "\n",
    "            for i, child in enumerate(children):\n",
    "                if i < (len(children) -1) :\n",
    "                    if ((children[i].name,children[i+1].name) == ('p','p')):\n",
    "                        usage_index.append(child.get_text())\n",
    "                        usage_contents.append(np.nan)\n",
    "                    else:\n",
    "                        if child.name == 'p':\n",
    "                            usage_index.append(child.get_text())\n",
    "                        elif child.name == 'div':\n",
    "                            usage_contents.append(child.get_text())\n",
    "                        else:\n",
    "                            print(\"이런 경우는 없어야하는데요1\", usage_name_list[0])\n",
    "                else:\n",
    "                    if child.name == 'p':\n",
    "                        usage_index.append(child.get_text())\n",
    "                        usage_contents.append(np.nan)\n",
    "                    elif child.name == 'div':\n",
    "                         usage_contents.append(child.get_text())\n",
    "                    else:\n",
    "                        print(\"이런 경우는 없어야하는데요2\", usage_name_list[0])\n",
    "\n",
    "        usage_name_list *= len(usage_index)\n",
    "\n",
    "        df_tem = pd.DataFrame(zip(usage_name_list,usage_index,usage_contents))\n",
    "        df_usage = pd.concat([df_usage,df_tem])\n",
    "\n",
    "\n",
    "        # 사용상의주의사항\n",
    "        ## 주의사항 내의 테이블 div 삭제하기 \n",
    "        for i in soup.select('#_nb_doc ._table_wrap_out'):\n",
    "            i.decompose()\n",
    "    \n",
    "        ## 주의사항 내의 테이블 삭제하기 \n",
    "        for i in soup.select('#_nb_doc table'):\n",
    "            i.decompose()  \n",
    "            \n",
    "        ## 주의사항 내의 이미지 삭제\n",
    "        for i in soup.select('#_nb_doc img'):\n",
    "            i.decompose() \n",
    "\n",
    "        caution_name_list = []\n",
    "        caution_index_list = []\n",
    "        caution_contents_list = []\n",
    "\n",
    "        #caution_name받기 \n",
    "        caution_name = soup.select_one('#content > section > div.drug_info_top.notPkInfo.not_button > div.r_sec > table > tbody > tr:nth-child(1) > td > span').get_text()\n",
    "        caution_name_list.append(caution_name)\n",
    "\n",
    "        #'a'태그가 들어있으니까 전부 삭제할것. \n",
    "        for i in soup.select('#_nb_doc a'):\n",
    "            i.decompose()\n",
    "\n",
    "        #'sup'태그 들어있으니까 전부 삭제 \n",
    "        for i in soup.select('#_nb_doc sup'):\n",
    "            i.decompose()\n",
    "\n",
    "        #children_list 정의\n",
    "        children_list = soup.select_one('#_nb_doc').findChildren()\n",
    "\n",
    "        #children_tag_list 정의\n",
    "        children_tag_list = [] \n",
    "        for i in soup.select_one('#_nb_doc').findChildren():\n",
    "            children_tag_list.append(i.name)\n",
    "\n",
    "        #sub tag 가 존재하면 sub태그를 children_list와 children_tag_list에서 삭제\n",
    "        sub_del_index=[]\n",
    "        for i,j in enumerate(children_tag_list):\n",
    "            if j == 'sub':\n",
    "                sub_del_index.append(i)   \n",
    "        #순서가 큰것부터 삭제해야 리스트가 변하지 않으면서 오류가 안생김. !!!!\n",
    "        sub_del_index.sort(reverse=True)\n",
    "\n",
    "        for i in sub_del_index:\n",
    "            del children_list[i]\n",
    "            del children_tag_list[i]\n",
    "\n",
    "\n",
    "        #손자뻘 되는 데이터는 전부 삭제. (div 밑에 있는 p의 갯수만큼 다음 p를 삭제)\n",
    "        for i, child in enumerate(children_list):\n",
    "            if (len(child.findChildren('p')) != 0):\n",
    "                del children_list[i+1:i+1+len(child.findChildren('p'))]\n",
    "                del children_tag_list[i+1:i+1+len(child.findChildren('p'))]\n",
    "\n",
    "        #p와 div에 맞게 리스트에 추가.\n",
    "        for i, child in enumerate(children_list):\n",
    "            if i < (len(children_list) -1) :\n",
    "                if ((children_tag_list[i],children_tag_list[i+1]) == ('p','p')):\n",
    "                    pass\n",
    "                else:\n",
    "                    if child.name == 'p':\n",
    "                        caution_index_list.append(child.get_text()[3:])\n",
    "                    elif child.name == 'div':\n",
    "                        caution_contents_list.append(child.get_text())\n",
    "                    else:\n",
    "                        print(\"이런 경우는 없어야하는데 3\", caution_name_list[0])\n",
    "            else:\n",
    "                if child.name == 'p':\n",
    "                    pass\n",
    "                elif child.name == 'div':\n",
    "                    caution_contents_list.append(child.get_text())\n",
    "                else:\n",
    "                    print(\"이런 경우는 없어야하는데 5\", caution_name_list[0])\n",
    "\n",
    "        caution_name_list *= len(caution_index_list)\n",
    "\n",
    "        df_tem2 = pd.DataFrame(zip(caution_name_list,caution_index_list,caution_contents_list))\n",
    "        df_caution = pd.concat([df_caution,df_tem2])\n",
    "        \n",
    "        #탭 다시 이동\n",
    "        last_tab = driver.window_handles[0]\n",
    "        driver.switch_to.window(window_name=last_tab)\n",
    "       \n",
    "    #다음버튼 클릭\n",
    "    tem = driver.find_element_by_xpath('//*[@id=\"paging_div\"]/p/button[3]')\n",
    "    tem.click()"
   ]
  },
  {
   "cell_type": "code",
   "execution_count": 22,
   "id": "029a8990",
   "metadata": {},
   "outputs": [],
   "source": [
    "df_medicine = pd.DataFrame(zip(name_list,description_list,shape_list,company_list,ingredients_list,effect_list,image_list))\n",
    "df_medicine.columns = ['제품명','성상','모양','제조업체','유효성분','효능','이미지']"
   ]
  },
  {
   "cell_type": "code",
   "execution_count": 24,
   "id": "2d8896bc",
   "metadata": {},
   "outputs": [
    {
     "data": {
      "text/html": [
       "<div>\n",
       "<style scoped>\n",
       "    .dataframe tbody tr th:only-of-type {\n",
       "        vertical-align: middle;\n",
       "    }\n",
       "\n",
       "    .dataframe tbody tr th {\n",
       "        vertical-align: top;\n",
       "    }\n",
       "\n",
       "    .dataframe thead th {\n",
       "        text-align: right;\n",
       "    }\n",
       "</style>\n",
       "<table border=\"1\" class=\"dataframe\">\n",
       "  <thead>\n",
       "    <tr style=\"text-align: right;\">\n",
       "      <th></th>\n",
       "      <th>제품명</th>\n",
       "      <th>성상</th>\n",
       "      <th>모양</th>\n",
       "      <th>제조업체</th>\n",
       "      <th>유효성분</th>\n",
       "      <th>효능</th>\n",
       "      <th>이미지</th>\n",
       "    </tr>\n",
       "  </thead>\n",
       "  <tbody>\n",
       "    <tr>\n",
       "      <th>8</th>\n",
       "      <td>힐콘정(폴리카르보필칼슘)</td>\n",
       "      <td>진한 갈색의 반점이 있는 연한 흰색의 장방형 필름코팅정제</td>\n",
       "      <td>타원형</td>\n",
       "      <td>(주)한국파마</td>\n",
       "      <td>유효성분 : 폴리카르보필칼슘</td>\n",
       "      <td>만성변비, 비특이성 설사, 과민대장증후군에서의 변비 보조요법 및 설사\\n</td>\n",
       "      <td>data:image/jpeg;base64,/9j/4QAYRXhpZgAASUkqAAg...</td>\n",
       "    </tr>\n",
       "    <tr>\n",
       "      <th>9</th>\n",
       "      <td>힘엔스틱액(L-아스파르트산-L-아르기닌수화물)</td>\n",
       "      <td>알루미늄 호일 포에 들어있는 주황색의 액제</td>\n",
       "      <td>NaN</td>\n",
       "      <td>고려제약(주)</td>\n",
       "      <td>유효성분 : L-아스파르트산-L-아르기닌수화물</td>\n",
       "      <td>- 정신적·신체적 기능무력 증상의 보조요법\\n- 회복기간(아미노산 결핍상태) 동안의...</td>\n",
       "      <td>NaN</td>\n",
       "    </tr>\n",
       "    <tr>\n",
       "      <th>10</th>\n",
       "      <td>힘톤씨연질캡슐</td>\n",
       "      <td>담갈색의 죽상내용물이 든 일면은 암녹색 일면은 암갈색의 연질캅셀제이다</td>\n",
       "      <td>장방형</td>\n",
       "      <td>(주)메디카코리아</td>\n",
       "      <td>유효성분 : 레티놀팔미테이트,셀레늄함유건조효모,아스코르브산,토코페롤아세테이트</td>\n",
       "      <td>1. 다음경우의 비타민 A, E, C의 보급\\n- 육체피로\\n- 임신ㆍ수유기\\n- ...</td>\n",
       "      <td>data:image/jpeg;base64,/9j/4QAYRXhpZgAASUkqAAg...</td>\n",
       "    </tr>\n",
       "    <tr>\n",
       "      <th>11</th>\n",
       "      <td>힘톤플러스연질캡슐</td>\n",
       "      <td>흰색의 내용물이 든 암갈색의 장방형 연질캡슐</td>\n",
       "      <td>타원형</td>\n",
       "      <td>(주)메디카코리아</td>\n",
       "      <td>유효성분 : 레티놀팔미테이트,무수황산제이구리,산화마그네슘,산화아연,셀레늄함유건조효모...</td>\n",
       "      <td>1. 다음 경우의 비타민 A, E, C 의 보급\\n- 육체피로, 임신 · 수유기, ...</td>\n",
       "      <td>data:image/jpeg;base64,/9j/4QAYRXhpZgAASUkqAAg...</td>\n",
       "    </tr>\n",
       "    <tr>\n",
       "      <th>12</th>\n",
       "      <td>힙스브이파워정</td>\n",
       "      <td>적갈색의 장방형 필름코팅정</td>\n",
       "      <td>장방형</td>\n",
       "      <td>미래제약(주)</td>\n",
       "      <td>유효성분 : D-비오틴,감마-오리자놀,니코틴산아미드,리보플라빈,벤포티아민,산화아연,...</td>\n",
       "      <td>○ 다음 경우의 비타민 B1, B2, B6, C의 보급\\n- 육체피로\\n- 임신․수...</td>\n",
       "      <td>data:image/jpeg;base64,/9j/4QwlRXhpZgAATU0AKgA...</td>\n",
       "    </tr>\n",
       "  </tbody>\n",
       "</table>\n",
       "</div>"
      ],
      "text/plain": [
       "                          제품명                                      성상   모양  \\\n",
       "8               힐콘정(폴리카르보필칼슘)         진한 갈색의 반점이 있는 연한 흰색의 장방형 필름코팅정제  타원형   \n",
       "9   힘엔스틱액(L-아스파르트산-L-아르기닌수화물)                 알루미늄 호일 포에 들어있는 주황색의 액제  NaN   \n",
       "10                    힘톤씨연질캡슐  담갈색의 죽상내용물이 든 일면은 암녹색 일면은 암갈색의 연질캅셀제이다  장방형   \n",
       "11                  힘톤플러스연질캡슐                흰색의 내용물이 든 암갈색의 장방형 연질캡슐  타원형   \n",
       "12                    힙스브이파워정                          적갈색의 장방형 필름코팅정  장방형   \n",
       "\n",
       "         제조업체                                               유효성분  \\\n",
       "8     (주)한국파마                                    유효성분 : 폴리카르보필칼슘   \n",
       "9     고려제약(주)                          유효성분 : L-아스파르트산-L-아르기닌수화물   \n",
       "10  (주)메디카코리아         유효성분 : 레티놀팔미테이트,셀레늄함유건조효모,아스코르브산,토코페롤아세테이트   \n",
       "11  (주)메디카코리아  유효성분 : 레티놀팔미테이트,무수황산제이구리,산화마그네슘,산화아연,셀레늄함유건조효모...   \n",
       "12    미래제약(주)  유효성분 : D-비오틴,감마-오리자놀,니코틴산아미드,리보플라빈,벤포티아민,산화아연,...   \n",
       "\n",
       "                                                   효능  \\\n",
       "8            만성변비, 비특이성 설사, 과민대장증후군에서의 변비 보조요법 및 설사\\n   \n",
       "9   - 정신적·신체적 기능무력 증상의 보조요법\\n- 회복기간(아미노산 결핍상태) 동안의...   \n",
       "10  1. 다음경우의 비타민 A, E, C의 보급\\n- 육체피로\\n- 임신ㆍ수유기\\n- ...   \n",
       "11  1. 다음 경우의 비타민 A, E, C 의 보급\\n- 육체피로, 임신 · 수유기, ...   \n",
       "12  ○ 다음 경우의 비타민 B1, B2, B6, C의 보급\\n- 육체피로\\n- 임신․수...   \n",
       "\n",
       "                                                  이미지  \n",
       "8   data:image/jpeg;base64,/9j/4QAYRXhpZgAASUkqAAg...  \n",
       "9                                                 NaN  \n",
       "10  data:image/jpeg;base64,/9j/4QAYRXhpZgAASUkqAAg...  \n",
       "11  data:image/jpeg;base64,/9j/4QAYRXhpZgAASUkqAAg...  \n",
       "12  data:image/jpeg;base64,/9j/4QwlRXhpZgAATU0AKgA...  "
      ]
     },
     "execution_count": 24,
     "metadata": {},
     "output_type": "execute_result"
    }
   ],
   "source": [
    "df_medicine.tail()"
   ]
  },
  {
   "cell_type": "code",
   "execution_count": 25,
   "id": "5e68d9fa",
   "metadata": {},
   "outputs": [],
   "source": [
    "df_usage.columns = ['제품명','용법_인덱스','용법_내용']\n",
    "df_caution.columns = ['제품명','주의사항_인덱스','주의사항_내용']"
   ]
  },
  {
   "cell_type": "code",
   "execution_count": 26,
   "id": "f23fe376",
   "metadata": {},
   "outputs": [],
   "source": [
    "df_usage.reset_index(drop=True,inplace=True)\n",
    "df_caution.reset_index(drop=True,inplace=True)"
   ]
  },
  {
   "cell_type": "code",
   "execution_count": 27,
   "id": "b0ac50f9",
   "metadata": {},
   "outputs": [],
   "source": [
    "df_medicine.to_csv('medicine_8.csv',encoding='utf-8-sig')\n",
    "df_usage.to_csv('usage_8.csv',encoding='utf-8-sig')\n",
    "df_caution.to_csv('caution_8.csv',encoding='utf-8-sig')"
   ]
  },
  {
   "cell_type": "code",
   "execution_count": 10,
   "id": "b03c18a5",
   "metadata": {},
   "outputs": [
    {
     "data": {
      "text/html": [
       "<div>\n",
       "<style scoped>\n",
       "    .dataframe tbody tr th:only-of-type {\n",
       "        vertical-align: middle;\n",
       "    }\n",
       "\n",
       "    .dataframe tbody tr th {\n",
       "        vertical-align: top;\n",
       "    }\n",
       "\n",
       "    .dataframe thead th {\n",
       "        text-align: right;\n",
       "    }\n",
       "</style>\n",
       "<table border=\"1\" class=\"dataframe\">\n",
       "  <thead>\n",
       "    <tr style=\"text-align: right;\">\n",
       "      <th></th>\n",
       "      <th>제품명</th>\n",
       "      <th>성상</th>\n",
       "      <th>모양</th>\n",
       "      <th>제조업체</th>\n",
       "      <th>유효성분</th>\n",
       "      <th>효능</th>\n",
       "      <th>이미지</th>\n",
       "    </tr>\n",
       "  </thead>\n",
       "  <tbody>\n",
       "    <tr>\n",
       "      <th>6043</th>\n",
       "      <td>히알핑점안액(히알루론산나트륨)</td>\n",
       "      <td>무색 플라스틱용기에 든 무색 투명하고 점조성이 있는 수용성 점안액</td>\n",
       "      <td>NaN</td>\n",
       "      <td>현대약품(주)</td>\n",
       "      <td>유효성분 : 히알루론산나트륨</td>\n",
       "      <td>다음 증상에서 눈의 습윤\\n․ 먼지, 바람, 건조한 공기, 장기간의 컴퓨터사용에 의...</td>\n",
       "      <td>NaN</td>\n",
       "    </tr>\n",
       "    <tr>\n",
       "      <th>6044</th>\n",
       "      <td>히알핑점안액(히알루론산나트륨)</td>\n",
       "      <td>무색 플라스틱용기에 든 무색 투명하고 점조성이 있는 수용성 점안액</td>\n",
       "      <td>NaN</td>\n",
       "      <td>현대약품(주)</td>\n",
       "      <td>유효성분 : 히알루론산나트륨</td>\n",
       "      <td>다음 질환에 의한 각결막 상피장애 :\\n- 쇼그렌증후군, 피부점막안증후군(스티븐스-...</td>\n",
       "      <td>NaN</td>\n",
       "    </tr>\n",
       "    <tr>\n",
       "      <th>6045</th>\n",
       "      <td>히야론퍼스트주사(히알루론산나트륨)(프리필드)</td>\n",
       "      <td>위아래가고무마개로막힌무색투명유리관(프리필드시린지시스템의일부분)속에무색투명하고점조성이...</td>\n",
       "      <td>NaN</td>\n",
       "      <td>동국제약(주)</td>\n",
       "      <td>유효성분 : 히알루론산나트륨</td>\n",
       "      <td>슬관절의 골관절염, 견관절주위염 치료\\n</td>\n",
       "      <td>NaN</td>\n",
       "    </tr>\n",
       "    <tr>\n",
       "      <th>6046</th>\n",
       "      <td>히야론프리필드주사(히알루론산나트륨)</td>\n",
       "      <td>위아래가 고무마개로 막힌 유리관(프리필드 시린지 시스템의 일부분)속에 \\n들어있는 ...</td>\n",
       "      <td>NaN</td>\n",
       "      <td>동국제약(주)</td>\n",
       "      <td>유효성분 : 히알루론산나트륨</td>\n",
       "      <td>변형성 슬관절증, 견관절주위염\\n</td>\n",
       "      <td>NaN</td>\n",
       "    </tr>\n",
       "    <tr>\n",
       "      <th>6047</th>\n",
       "      <td>히얼스주(티옥트산)</td>\n",
       "      <td>갈색 앰플에 든 미황색의 등명한 주사액</td>\n",
       "      <td>NaN</td>\n",
       "      <td>(주)마더스제약</td>\n",
       "      <td>유효성분 : 티옥트산</td>\n",
       "      <td>티옥트산의 수요가 증대되는 경우의 보급(격심한 육체노동시), Leigh증후군(아급성...</td>\n",
       "      <td>NaN</td>\n",
       "    </tr>\n",
       "  </tbody>\n",
       "</table>\n",
       "</div>"
      ],
      "text/plain": [
       "                           제품명  \\\n",
       "6043          히알핑점안액(히알루론산나트륨)   \n",
       "6044          히알핑점안액(히알루론산나트륨)   \n",
       "6045  히야론퍼스트주사(히알루론산나트륨)(프리필드)   \n",
       "6046       히야론프리필드주사(히알루론산나트륨)   \n",
       "6047                히얼스주(티옥트산)   \n",
       "\n",
       "                                                     성상   모양      제조업체  \\\n",
       "6043               무색 플라스틱용기에 든 무색 투명하고 점조성이 있는 수용성 점안액  NaN   현대약품(주)   \n",
       "6044               무색 플라스틱용기에 든 무색 투명하고 점조성이 있는 수용성 점안액  NaN   현대약품(주)   \n",
       "6045  위아래가고무마개로막힌무색투명유리관(프리필드시린지시스템의일부분)속에무색투명하고점조성이...  NaN   동국제약(주)   \n",
       "6046  위아래가 고무마개로 막힌 유리관(프리필드 시린지 시스템의 일부분)속에 \\n들어있는 ...  NaN   동국제약(주)   \n",
       "6047                              갈색 앰플에 든 미황색의 등명한 주사액  NaN  (주)마더스제약   \n",
       "\n",
       "                 유효성분                                                 효능  이미지  \n",
       "6043  유효성분 : 히알루론산나트륨  다음 증상에서 눈의 습윤\\n․ 먼지, 바람, 건조한 공기, 장기간의 컴퓨터사용에 의...  NaN  \n",
       "6044  유효성분 : 히알루론산나트륨  다음 질환에 의한 각결막 상피장애 :\\n- 쇼그렌증후군, 피부점막안증후군(스티븐스-...  NaN  \n",
       "6045  유효성분 : 히알루론산나트륨                             슬관절의 골관절염, 견관절주위염 치료\\n  NaN  \n",
       "6046  유효성분 : 히알루론산나트륨                                 변형성 슬관절증, 견관절주위염\\n  NaN  \n",
       "6047      유효성분 : 티옥트산  티옥트산의 수요가 증대되는 경우의 보급(격심한 육체노동시), Leigh증후군(아급성...  NaN  "
      ]
     },
     "execution_count": 10,
     "metadata": {},
     "output_type": "execute_result"
    }
   ],
   "source": [
    "df_medicine.tail()"
   ]
  },
  {
   "cell_type": "code",
   "execution_count": null,
   "id": "806d02c4",
   "metadata": {},
   "outputs": [],
   "source": [
    "datetime.datetime.now() #5월 3일 0시 17분 32초 "
   ]
  },
  {
   "cell_type": "code",
   "execution_count": 17,
   "id": "4b75cb49",
   "metadata": {
    "scrolled": true
   },
   "outputs": [
    {
     "data": {
      "text/html": [
       "<div>\n",
       "<style scoped>\n",
       "    .dataframe tbody tr th:only-of-type {\n",
       "        vertical-align: middle;\n",
       "    }\n",
       "\n",
       "    .dataframe tbody tr th {\n",
       "        vertical-align: top;\n",
       "    }\n",
       "\n",
       "    .dataframe thead th {\n",
       "        text-align: right;\n",
       "    }\n",
       "</style>\n",
       "<table border=\"1\" class=\"dataframe\">\n",
       "  <thead>\n",
       "    <tr style=\"text-align: right;\">\n",
       "      <th></th>\n",
       "      <th>제품명</th>\n",
       "      <th>성상</th>\n",
       "      <th>모양</th>\n",
       "      <th>제조업체</th>\n",
       "      <th>유효성분</th>\n",
       "      <th>효능</th>\n",
       "      <th>이미지</th>\n",
       "    </tr>\n",
       "  </thead>\n",
       "  <tbody>\n",
       "    <tr>\n",
       "      <th>0</th>\n",
       "      <td>스텐드로주(프리필드)</td>\n",
       "      <td>위아래가 고무마개로 막힌 유리관(프리필드시린지 시스템의 일부분)의 하단부에 백색-미...</td>\n",
       "      <td>NaN</td>\n",
       "      <td>신풍제약(주)</td>\n",
       "      <td>유효성분 : 알프로스타딜,염산파파베린,펜토라민메실레이트</td>\n",
       "      <td>발기부전의 치료\\n</td>\n",
       "      <td>NaN</td>\n",
       "    </tr>\n",
       "    <tr>\n",
       "      <th>1</th>\n",
       "      <td>스텐카정1밀리그램(피나스테리드)</td>\n",
       "      <td>황갈색의 양면이 볼록한 팔각형 모양의 필름코팅정</td>\n",
       "      <td>팔각형</td>\n",
       "      <td>(주)디에이치피코리아</td>\n",
       "      <td>유효성분 : 피나스테리드</td>\n",
       "      <td>성인남성(만 18 ∼ 41세)의 남성형 탈모증(안드로겐 탈모증)의 치료\\n</td>\n",
       "      <td>data:image/jpeg;base64,/9j/4Q1MRXhpZgAATU0AKgA...</td>\n",
       "    </tr>\n",
       "    <tr>\n",
       "      <th>2</th>\n",
       "      <td>스텔론패취10(리바스티그민)</td>\n",
       "      <td>반투명의 모서리가 둥근 정사각형의 10㎠ 크기의 패취제</td>\n",
       "      <td>NaN</td>\n",
       "      <td>동광제약(주)</td>\n",
       "      <td>유효성분 : 리바스티그민</td>\n",
       "      <td>- 경도 내지 중등도의 알츠하이머형 치매 또는 파킨슨병과 관련된 치매의 대증적 치료...</td>\n",
       "      <td>NaN</td>\n",
       "    </tr>\n",
       "    <tr>\n",
       "      <th>3</th>\n",
       "      <td>스텔론패취5(리바스티그민)</td>\n",
       "      <td>반투명의 모서리가 둥근 정사각형의 5㎠ 크기의 패취제</td>\n",
       "      <td>NaN</td>\n",
       "      <td>동광제약(주)</td>\n",
       "      <td>유효성분 : 리바스티그민</td>\n",
       "      <td>- 경도 내지 중등도의 알츠하이머형 치매 또는 파킨슨병과 관련된 치매의 대증적 치료...</td>\n",
       "      <td>NaN</td>\n",
       "    </tr>\n",
       "    <tr>\n",
       "      <th>4</th>\n",
       "      <td>스토가드캡슐(설피리드)(수출용)</td>\n",
       "      <td>백색의 결정성 분말이 충진된 상하부 백색의 경질캅셀제</td>\n",
       "      <td>NaN</td>\n",
       "      <td>(주)뉴젠팜</td>\n",
       "      <td>유효성분 : 설피리드</td>\n",
       "      <td>1. 주효능 효과\\n위.십이지장궤양\\n</td>\n",
       "      <td>NaN</td>\n",
       "    </tr>\n",
       "    <tr>\n",
       "      <th>...</th>\n",
       "      <td>...</td>\n",
       "      <td>...</td>\n",
       "      <td>...</td>\n",
       "      <td>...</td>\n",
       "      <td>...</td>\n",
       "      <td>...</td>\n",
       "      <td>...</td>\n",
       "    </tr>\n",
       "    <tr>\n",
       "      <th>13981</th>\n",
       "      <td>조은아이엠시럽</td>\n",
       "      <td>1회 복용 품목 : 갈색의 유리앰플, 차광된 사면포, 불투명 플라스틱 앰플에 든 연...</td>\n",
       "      <td>NaN</td>\n",
       "      <td>조아제약(주)</td>\n",
       "      <td>유효성분 : 글리세로인산마그네슘,니코틴산아미드,락트산칼슘수화물,비오틴,이노시톨,콜린...</td>\n",
       "      <td>다음 경우의 비타민 B1, B6의 보급\\n- 육체피로\\n- 임신·수유기\\n- 병중·...</td>\n",
       "      <td>NaN</td>\n",
       "    </tr>\n",
       "    <tr>\n",
       "      <th>13982</th>\n",
       "      <td>조은아이포르테시럽</td>\n",
       "      <td>1회 복용 품목 : 갈색의 유리앰플, 차광된 사면포, 불투명 플라스틱 앰플에 든 연...</td>\n",
       "      <td>NaN</td>\n",
       "      <td>조아제약(주)</td>\n",
       "      <td>유효성분 : DL-메티오닌,니코틴산아미드,비오틴,이노시톨,콜린타르타르산염,티아민질산...</td>\n",
       "      <td>다음 경우의 비타민 B1, B6의 보급\\n- 육체피로\\n- 임신·수유기\\n- 병중·...</td>\n",
       "      <td>NaN</td>\n",
       "    </tr>\n",
       "    <tr>\n",
       "      <th>13983</th>\n",
       "      <td>조이너정</td>\n",
       "      <td>암갈색의 장방형 필름코팅정</td>\n",
       "      <td>NaN</td>\n",
       "      <td>에이프로젠제약(주)</td>\n",
       "      <td>유효성분 : 감마오리자놀,낙산리보플라빈,니코틴산아미드,염산피리독신,판토텐산칼슘,푸르...</td>\n",
       "      <td>-다음 경우의 비타민B₁,B₂,B6보급 : 육체피로, 임신수유기, 병중병후의 체력저...</td>\n",
       "      <td>NaN</td>\n",
       "    </tr>\n",
       "    <tr>\n",
       "      <th>13984</th>\n",
       "      <td>조이놀정</td>\n",
       "      <td>암갈색의 장방형 필름제피정</td>\n",
       "      <td>타원형</td>\n",
       "      <td>에이프로젠제약(주)</td>\n",
       "      <td>유효성분 : γ-오리자놀,니코틴산아미드,리보플라빈부티레이트,판토텐산칼슘,푸르설티아민...</td>\n",
       "      <td>- 다음 경우의 비타민B1보급 : 육체피로, 임신·수유기, 병중·병후의 체력저하 시...</td>\n",
       "      <td>data:image/jpeg;base64,/9j/4QrPRXhpZgAATU0AKgA...</td>\n",
       "    </tr>\n",
       "    <tr>\n",
       "      <th>13985</th>\n",
       "      <td>조이락스정(아시클로버)</td>\n",
       "      <td>연청색의 원형 정제</td>\n",
       "      <td>원형</td>\n",
       "      <td>주식회사 더유제약</td>\n",
       "      <td>유효성분 : 아시클로버</td>\n",
       "      <td>1. 초발성 및 재발성 생식기포진을 포함한 피부 및 점막조직의 단순포진 바이러스 감...</td>\n",
       "      <td>data:image/jpeg;base64,/9j/4QtURXhpZgAATU0AKgA...</td>\n",
       "    </tr>\n",
       "  </tbody>\n",
       "</table>\n",
       "<p>13986 rows × 7 columns</p>\n",
       "</div>"
      ],
      "text/plain": [
       "                     제품명                                                 성상  \\\n",
       "0            스텐드로주(프리필드)  위아래가 고무마개로 막힌 유리관(프리필드시린지 시스템의 일부분)의 하단부에 백색-미...   \n",
       "1      스텐카정1밀리그램(피나스테리드)                         황갈색의 양면이 볼록한 팔각형 모양의 필름코팅정   \n",
       "2        스텔론패취10(리바스티그민)                     반투명의 모서리가 둥근 정사각형의 10㎠ 크기의 패취제   \n",
       "3         스텔론패취5(리바스티그민)                      반투명의 모서리가 둥근 정사각형의 5㎠ 크기의 패취제   \n",
       "4      스토가드캡슐(설피리드)(수출용)                     백색의 결정성 분말이 충진된 상하부 백색의 경질캅셀제    \n",
       "...                  ...                                                ...   \n",
       "13981            조은아이엠시럽  1회 복용 품목 : 갈색의 유리앰플, 차광된 사면포, 불투명 플라스틱 앰플에 든 연...   \n",
       "13982          조은아이포르테시럽  1회 복용 품목 : 갈색의 유리앰플, 차광된 사면포, 불투명 플라스틱 앰플에 든 연...   \n",
       "13983               조이너정                                     암갈색의 장방형 필름코팅정   \n",
       "13984               조이놀정                                     암갈색의 장방형 필름제피정   \n",
       "13985       조이락스정(아시클로버)                                         연청색의 원형 정제   \n",
       "\n",
       "        모양         제조업체                                               유효성분  \\\n",
       "0      NaN      신풍제약(주)                     유효성분 : 알프로스타딜,염산파파베린,펜토라민메실레이트   \n",
       "1      팔각형  (주)디에이치피코리아                                      유효성분 : 피나스테리드   \n",
       "2      NaN      동광제약(주)                                      유효성분 : 리바스티그민   \n",
       "3      NaN      동광제약(주)                                      유효성분 : 리바스티그민   \n",
       "4      NaN       (주)뉴젠팜                                        유효성분 : 설피리드   \n",
       "...    ...          ...                                                ...   \n",
       "13981  NaN      조아제약(주)  유효성분 : 글리세로인산마그네슘,니코틴산아미드,락트산칼슘수화물,비오틴,이노시톨,콜린...   \n",
       "13982  NaN      조아제약(주)  유효성분 : DL-메티오닌,니코틴산아미드,비오틴,이노시톨,콜린타르타르산염,티아민질산...   \n",
       "13983  NaN   에이프로젠제약(주)  유효성분 : 감마오리자놀,낙산리보플라빈,니코틴산아미드,염산피리독신,판토텐산칼슘,푸르...   \n",
       "13984  타원형   에이프로젠제약(주)  유효성분 : γ-오리자놀,니코틴산아미드,리보플라빈부티레이트,판토텐산칼슘,푸르설티아민...   \n",
       "13985   원형    주식회사 더유제약                                       유효성분 : 아시클로버   \n",
       "\n",
       "                                                      효능  \\\n",
       "0                                             발기부전의 치료\\n   \n",
       "1              성인남성(만 18 ∼ 41세)의 남성형 탈모증(안드로겐 탈모증)의 치료\\n   \n",
       "2      - 경도 내지 중등도의 알츠하이머형 치매 또는 파킨슨병과 관련된 치매의 대증적 치료...   \n",
       "3      - 경도 내지 중등도의 알츠하이머형 치매 또는 파킨슨병과 관련된 치매의 대증적 치료...   \n",
       "4                                  1. 주효능 효과\\n위.십이지장궤양\\n   \n",
       "...                                                  ...   \n",
       "13981  다음 경우의 비타민 B1, B6의 보급\\n- 육체피로\\n- 임신·수유기\\n- 병중·...   \n",
       "13982  다음 경우의 비타민 B1, B6의 보급\\n- 육체피로\\n- 임신·수유기\\n- 병중·...   \n",
       "13983  -다음 경우의 비타민B₁,B₂,B6보급 : 육체피로, 임신수유기, 병중병후의 체력저...   \n",
       "13984  - 다음 경우의 비타민B1보급 : 육체피로, 임신·수유기, 병중·병후의 체력저하 시...   \n",
       "13985  1. 초발성 및 재발성 생식기포진을 포함한 피부 및 점막조직의 단순포진 바이러스 감...   \n",
       "\n",
       "                                                     이미지  \n",
       "0                                                    NaN  \n",
       "1      data:image/jpeg;base64,/9j/4Q1MRXhpZgAATU0AKgA...  \n",
       "2                                                    NaN  \n",
       "3                                                    NaN  \n",
       "4                                                    NaN  \n",
       "...                                                  ...  \n",
       "13981                                                NaN  \n",
       "13982                                                NaN  \n",
       "13983                                                NaN  \n",
       "13984  data:image/jpeg;base64,/9j/4QrPRXhpZgAATU0AKgA...  \n",
       "13985  data:image/jpeg;base64,/9j/4QtURXhpZgAATU0AKgA...  \n",
       "\n",
       "[13986 rows x 7 columns]"
      ]
     },
     "execution_count": 17,
     "metadata": {},
     "output_type": "execute_result"
    }
   ],
   "source": [
    "df_medicine"
   ]
  },
  {
   "cell_type": "code",
   "execution_count": 26,
   "id": "662d96aa",
   "metadata": {},
   "outputs": [
    {
     "data": {
      "text/plain": [
       "1219"
      ]
     },
     "execution_count": 26,
     "metadata": {},
     "output_type": "execute_result"
    }
   ],
   "source": [
    "len(df_caution.loc[df_caution['주의사항_인덱스'] == '부작용','주의사항_내용'])"
   ]
  },
  {
   "cell_type": "code",
   "execution_count": 31,
   "id": "dcc88859",
   "metadata": {},
   "outputs": [
    {
     "data": {
      "text/plain": [
       "Int64Index([    51,    153,    166,    212,    377,    557,    586,    650,\n",
       "               757,    779,\n",
       "            ...\n",
       "            124135, 124159, 124167, 124206, 124225, 124235, 124243, 124258,\n",
       "            124290, 124297],\n",
       "           dtype='int64', length=1219)"
      ]
     },
     "execution_count": 31,
     "metadata": {},
     "output_type": "execute_result"
    }
   ],
   "source": [
    "df_caution.loc[df_caution['주의사항_인덱스'] == '부작용','주의사항_내용'].index"
   ]
  },
  {
   "cell_type": "code",
   "execution_count": null,
   "id": "f04367d7",
   "metadata": {},
   "outputs": [],
   "source": []
  },
  {
   "cell_type": "code",
   "execution_count": 37,
   "id": "31fd9cbf",
   "metadata": {},
   "outputs": [
    {
     "name": "stdout",
     "output_type": "stream",
     "text": [
      "1) 때때로 구갈, 피부발진이 나타날 수 있다.\n",
      "2) 이 약에 과민증 환자 또는 과량투여시 때때로 어지러움, 혼수, 심한 발한, 두통, 구역, 위통, 변비 등이 나타날 수 있다.\n",
      "\n"
     ]
    }
   ],
   "source": [
    "print(df_caution.loc[df_caution['주의사항_인덱스'] == '부작용','주의사항_내용'][757])"
   ]
  },
  {
   "cell_type": "code",
   "execution_count": 27,
   "id": "a4785d9d",
   "metadata": {},
   "outputs": [
    {
     "name": "stdout",
     "output_type": "stream",
     "text": [
      "1) 순환기계 : 급격히 증량할 경우에는 심전도에 변화가 나타날 수 있으므로 신중히 투여할 것. 또한 때때로 혈압강하 또는 드물게 혈압상승, 흉내고민, 빈맥 등이 나타날 수 있다.\n",
      "2) 추체외로계 : 때때로 파킨슨증후군(진전, 근강직, 유연 등), 디스키네시아(혀의 굳어짐, 언어장애, 안구회전, 주사경련, 연하곤란 등)이 나타날 수 있으므로 이러한 증상이 나타나는 경우에는 감량하거나 항파킨슨제의 병용 등 적절한 처치를 할 것. 또한 장기투여에 의해 드물게 입주위 등에 불수의 운동이 나타나며 투여중지후에도 지속되는 수가 있다.\n",
      "3) 악성신경마비증후군(말린증후군) : 발열과 함께 무동함묵, 심한 근강직, 연하곤란, 빈맥, 발한을 수반하는 근무력증, 무인증, 혈압변동 등이 나타나는 경우에는 이 약의 투여를 중지하고 냉찜질, 적절한 수액의 공급 등과 같이 체계적으로 적절한 조치를 취하여야 한다. 이 증상이 나타나는 경우 백혈구 증가 및 혈청 CPK의 상승이 나타나는 수가 많으며 미오글로빈뇨를 수반한 신기능저하가 나타날 수 있다. 또한, 심한 고열이 지속되어 의식장애, 호흡곤란, 순환성 쇽, 탈수, 급성 신부전으로 이행되어 사망한 예가 보고되어 있다.\n",
      "4) 내분비계 : 때때로 간뇌의 내분비기능조절이상(고나도트로핀 및 프롤락틴 분비이상)에 기인한다고 추정되는 유즙분비, 여성형 유방, 월경이상, 사정불능 등이 나타날 수 있으므로 관찰을 충분히 하고 신중하게 투여할 것.\n",
      "5) 정신신경계 : 때때로 수면장해, 불안, 초조, 졸음, 흥분, 건망증, 몽롱한 상태, 배회, 다동, 억제결여, 무욕상태, 경련 등이 나타날 수 있다. 또한 조급함이 나타날 수 있다.\n",
      "6) 자율신경계 : 드물게 무력증, 권태감, 구갈, 두통, 어지러움, 부유감, 손의 저림, 배뇨곤란, 운동실조, 때때로 열감, 발열, 발한, 코막힘, 견통, 손의 무력감이 나타날 수 있다.\n",
      "7) 소화기계 : 때때로 구역, 구토, 변비, 식욕부진, 위‧복부불쾌감, 드물게 설사, 속쓰림, 복통, 식욕촉진 등이 나타날 수 있다.\n",
      "8) 간장 : 때때로 AST, ALT, ALP 등의 상승이 나타날 수 있다.\n",
      "9) 피부 : 때때로 발진, 드물게 습진악화, 가려움 등이 나타날 수 있으므로 투여를 중지할 것.\n",
      "10) 눈 : 드물게 시력장해, 안구냉감‧중감, 침침한 눈 등이 나타날 수 있다.\n",
      "11) 기타 : 때때로 부종이 나타날 수 있으므로 이러한 경우에는 투여를 중지할 것. 또한 체중증가, 성욕감퇴, 빈뇨, 요통이 나타날 수 있다.\n",
      "\n"
     ]
    }
   ],
   "source": [
    "print(df_caution.loc[df_caution['주의사항_인덱스'] == '부작용','주의사항_내용'][51])"
   ]
  },
  {
   "cell_type": "code",
   "execution_count": null,
   "id": "3ffadee9",
   "metadata": {},
   "outputs": [],
   "source": []
  },
  {
   "cell_type": "markdown",
   "id": "b8b18502",
   "metadata": {},
   "source": [
    "호흡기계 : 호흡곤란\n",
    "순환기계 : 혈압변화,빈맥\n",
    "내분비계 : 여성형유방, 월경이상, 사정불능 \n",
    "정신신경계 : 수면장애, 불안, 졸림, \n",
    "자율신경계 : 어지러움 발열 코막힘\n",
    "소화기계 : 구토 변비 식욕부진 설사 속쓰림 복통\n",
    "피부 : 발진, 가려움, 습진, 두드러기\n",
    "눈 : 시력장애 , 침침한 눈 \n",
    "기타 : 성욕감퇴, 빈뇨, 체중증가"
   ]
  },
  {
   "cell_type": "code",
   "execution_count": null,
   "id": "fd61188d",
   "metadata": {},
   "outputs": [],
   "source": []
  },
  {
   "cell_type": "code",
   "execution_count": null,
   "id": "16840d01",
   "metadata": {},
   "outputs": [],
   "source": []
  },
  {
   "cell_type": "code",
   "execution_count": null,
   "id": "068397a3",
   "metadata": {},
   "outputs": [],
   "source": []
  },
  {
   "cell_type": "code",
   "execution_count": null,
   "id": "262207b8",
   "metadata": {},
   "outputs": [],
   "source": []
  },
  {
   "cell_type": "code",
   "execution_count": null,
   "id": "e8030576",
   "metadata": {},
   "outputs": [],
   "source": [
    "df_caution.drop()"
   ]
  },
  {
   "cell_type": "code",
   "execution_count": 15,
   "id": "99c77180",
   "metadata": {},
   "outputs": [
    {
     "data": {
      "text/plain": [
       "Int64Index([121532, 121533, 121534, 121535, 121536, 121537], dtype='int64')"
      ]
     },
     "execution_count": 15,
     "metadata": {},
     "output_type": "execute_result"
    }
   ],
   "source": [
    "df_caution[df_caution['제품명'] == '바르졸크림(수출용)'].index"
   ]
  },
  {
   "cell_type": "code",
   "execution_count": 11,
   "id": "36051932",
   "metadata": {},
   "outputs": [
    {
     "data": {
      "text/html": [
       "<div>\n",
       "<style scoped>\n",
       "    .dataframe tbody tr th:only-of-type {\n",
       "        vertical-align: middle;\n",
       "    }\n",
       "\n",
       "    .dataframe tbody tr th {\n",
       "        vertical-align: top;\n",
       "    }\n",
       "\n",
       "    .dataframe thead th {\n",
       "        text-align: right;\n",
       "    }\n",
       "</style>\n",
       "<table border=\"1\" class=\"dataframe\">\n",
       "  <thead>\n",
       "    <tr style=\"text-align: right;\">\n",
       "      <th></th>\n",
       "      <th>제품명</th>\n",
       "      <th>성상</th>\n",
       "      <th>모양</th>\n",
       "      <th>제조업체</th>\n",
       "      <th>유효성분</th>\n",
       "      <th>효능</th>\n",
       "      <th>이미지</th>\n",
       "    </tr>\n",
       "  </thead>\n",
       "  <tbody>\n",
       "    <tr>\n",
       "      <th>5836</th>\n",
       "      <td>스테리스-20액(35%과초산)</td>\n",
       "      <td>백색 플라스틱 콘테이너에 든 백색의 액체 및 과립</td>\n",
       "      <td>NaN</td>\n",
       "      <td>(주)테크노랜드</td>\n",
       "      <td>유효성분 : 35%과초산</td>\n",
       "      <td>수술 및 진단용 내시경이나 미세수술기구등의 소독용 활성제\\n</td>\n",
       "      <td>NaN</td>\n",
       "    </tr>\n",
       "    <tr>\n",
       "      <th>5837</th>\n",
       "      <td>스테리스-40액(35.5%과아세트산)</td>\n",
       "      <td>이 약은 활성성분의 무색 투명한 액과 보조성분인 흰색의 과립제가 분리되어 흰색용기에...</td>\n",
       "      <td>NaN</td>\n",
       "      <td>(주)테크노랜드</td>\n",
       "      <td>유효성분 : 35.5%과아세트산</td>\n",
       "      <td>수술 및 진단용 내시경이나 미세수술기구등의 소독\\n</td>\n",
       "      <td>NaN</td>\n",
       "    </tr>\n",
       "    <tr>\n",
       "      <th>5838</th>\n",
       "      <td>스테리정1밀리그램(피나스테리드)</td>\n",
       "      <td>양면이 볼록한 팔각형 모양의 적갈색 필름코팅정제</td>\n",
       "      <td>NaN</td>\n",
       "      <td>(주)텔콘알에프제약</td>\n",
       "      <td>유효성분 : 피나스테리드</td>\n",
       "      <td>성인남성(만 18 ~ 41세)의 남성형 탈모증(안드로겐 탈모증)의 치료\\n</td>\n",
       "      <td>NaN</td>\n",
       "    </tr>\n",
       "    <tr>\n",
       "      <th>5839</th>\n",
       "      <td>스테리탤크파우더(탤크)</td>\n",
       "      <td>흰색 또는 회백색 분말이 갈색 바이알에 든 주사제</td>\n",
       "      <td>NaN</td>\n",
       "      <td>주식회사에스피씨코리아</td>\n",
       "      <td>유효성분 : 탤크</td>\n",
       "      <td>악성 흉막삼출의 재발방지\\n</td>\n",
       "      <td>NaN</td>\n",
       "    </tr>\n",
       "    <tr>\n",
       "      <th>5840</th>\n",
       "      <td>스테미시스주(테트라키스(2-메톡시이소부틸이소니트릴)구리(I)테트라플루오로보레이트)</td>\n",
       "      <td>무색투명한 바이알에 든 흰색 내지 거의 흰색의 동결 건조된 분말</td>\n",
       "      <td>NaN</td>\n",
       "      <td>새한산업</td>\n",
       "      <td>유효성분 : 테트라키스(2-메톡시이소부틸이소니트릴)구리(I)테트라플루오로보레이트</td>\n",
       "      <td>1. 진단용 방사성 의약품인 헥사키스(2-메톡시이소부틸이소니트릴)테크네튬\\n(⁹⁹m...</td>\n",
       "      <td>NaN</td>\n",
       "    </tr>\n",
       "  </tbody>\n",
       "</table>\n",
       "</div>"
      ],
      "text/plain": [
       "                                                제품명  \\\n",
       "5836                               스테리스-20액(35%과초산)   \n",
       "5837                           스테리스-40액(35.5%과아세트산)   \n",
       "5838                              스테리정1밀리그램(피나스테리드)   \n",
       "5839                                   스테리탤크파우더(탤크)   \n",
       "5840  스테미시스주(테트라키스(2-메톡시이소부틸이소니트릴)구리(I)테트라플루오로보레이트)   \n",
       "\n",
       "                                                     성상   모양         제조업체  \\\n",
       "5836                       백색 플라스틱 콘테이너에 든 백색의 액체 및 과립   NaN     (주)테크노랜드   \n",
       "5837  이 약은 활성성분의 무색 투명한 액과 보조성분인 흰색의 과립제가 분리되어 흰색용기에...  NaN     (주)테크노랜드   \n",
       "5838                         양면이 볼록한 팔각형 모양의 적갈색 필름코팅정제  NaN   (주)텔콘알에프제약   \n",
       "5839                        흰색 또는 회백색 분말이 갈색 바이알에 든 주사제  NaN  주식회사에스피씨코리아   \n",
       "5840                무색투명한 바이알에 든 흰색 내지 거의 흰색의 동결 건조된 분말  NaN         새한산업   \n",
       "\n",
       "                                              유효성분  \\\n",
       "5836                                 유효성분 : 35%과초산   \n",
       "5837                             유효성분 : 35.5%과아세트산   \n",
       "5838                                 유효성분 : 피나스테리드   \n",
       "5839                                     유효성분 : 탤크   \n",
       "5840  유효성분 : 테트라키스(2-메톡시이소부틸이소니트릴)구리(I)테트라플루오로보레이트   \n",
       "\n",
       "                                                     효능  이미지  \n",
       "5836                  수술 및 진단용 내시경이나 미세수술기구등의 소독용 활성제\\n  NaN  \n",
       "5837                       수술 및 진단용 내시경이나 미세수술기구등의 소독\\n  NaN  \n",
       "5838          성인남성(만 18 ~ 41세)의 남성형 탈모증(안드로겐 탈모증)의 치료\\n  NaN  \n",
       "5839                                    악성 흉막삼출의 재발방지\\n  NaN  \n",
       "5840  1. 진단용 방사성 의약품인 헥사키스(2-메톡시이소부틸이소니트릴)테크네튬\\n(⁹⁹m...  NaN  "
      ]
     },
     "execution_count": 11,
     "metadata": {},
     "output_type": "execute_result"
    }
   ],
   "source": [
    "df_medicine.tail()"
   ]
  },
  {
   "cell_type": "code",
   "execution_count": null,
   "id": "9fe2cee8",
   "metadata": {},
   "outputs": [],
   "source": []
  },
  {
   "cell_type": "code",
   "execution_count": null,
   "id": "09251fb1",
   "metadata": {},
   "outputs": [],
   "source": []
  },
  {
   "cell_type": "code",
   "execution_count": null,
   "id": "9b89b18b",
   "metadata": {},
   "outputs": [],
   "source": []
  },
  {
   "cell_type": "code",
   "execution_count": null,
   "id": "69f51d4f",
   "metadata": {},
   "outputs": [],
   "source": []
  },
  {
   "cell_type": "code",
   "execution_count": 20,
   "id": "911b734b",
   "metadata": {},
   "outputs": [],
   "source": [
    "del_index = df_caution[df_caution['제품명'] == '바르지오네일라카(시클로피록스)'].index\n",
    "# 바르지오네일라카(시클로피록스)"
   ]
  },
  {
   "cell_type": "code",
   "execution_count": 21,
   "id": "0788552d",
   "metadata": {},
   "outputs": [],
   "source": [
    "df_caution.drop(del_index,inplace=True)"
   ]
  },
  {
   "cell_type": "code",
   "execution_count": 25,
   "id": "9934a469",
   "metadata": {},
   "outputs": [],
   "source": [
    "del_index = df_usage[df_usage['제품명'] == '바르졸크림(수출용)'].index\n",
    "df_usage.drop(del_index,inplace=True)"
   ]
  },
  {
   "cell_type": "code",
   "execution_count": 27,
   "id": "2f6f8272",
   "metadata": {},
   "outputs": [],
   "source": [
    "del_index = df_medicine[df_medicine['제품명'] == '바르지오네일라카(시클로피록스)'].index\n",
    "df_medicine.drop(del_index,inplace=True)"
   ]
  },
  {
   "cell_type": "markdown",
   "id": "282e6d0a",
   "metadata": {},
   "source": [
    "# 1회"
   ]
  },
  {
   "cell_type": "markdown",
   "id": "b9bd6336",
   "metadata": {},
   "source": [
    "https://nedrug.mfds.go.kr/searchDrug?sort=&sortOrder=false&searchYn=&ExcelRowdata=&page=1020&searchDivision=detail&itemName=&entpName=&ingrName1=&ingrName2=&ingrName3=&itemSeq=&stdrCodeName=&atcCodeName=&indutyClassCode=A0&sClassNo=&narcoticKindCode=&cancelCode=&etcOtcCode=&makeMaterialGb=&searchConEe=AND&eeDocData=&searchConUd=AND&udDocData=&searchConNb=AND&nbDocData=&startPermitDate=&endPermitDate="
   ]
  },
  {
   "cell_type": "code",
   "execution_count": 1,
   "id": "acca5fc7",
   "metadata": {
    "scrolled": true
   },
   "outputs": [
    {
     "data": {
      "text/plain": [
       "12"
      ]
     },
     "execution_count": 1,
     "metadata": {},
     "output_type": "execute_result"
    }
   ],
   "source": [
    "12"
   ]
  },
  {
   "cell_type": "code",
   "execution_count": 3,
   "id": "345f2c5d",
   "metadata": {},
   "outputs": [],
   "source": [
    "import pandas as pd \n",
    "import numpy as np"
   ]
  },
  {
   "cell_type": "code",
   "execution_count": 4,
   "id": "5c3e0e23",
   "metadata": {},
   "outputs": [],
   "source": [
    "df_new = pd.read_csv(\"medicine_sample.csv\")"
   ]
  },
  {
   "cell_type": "code",
   "execution_count": 6,
   "id": "89a0b39a",
   "metadata": {},
   "outputs": [],
   "source": [
    "df_new.drop('Unnamed: 0',axis=1,inplace=True)"
   ]
  },
  {
   "cell_type": "code",
   "execution_count": 8,
   "id": "098f4a55",
   "metadata": {},
   "outputs": [],
   "source": [
    "df_new.drop('Unnamed: 0.1',axis=1,inplace=True)"
   ]
  },
  {
   "cell_type": "code",
   "execution_count": 15,
   "id": "40fec9f8",
   "metadata": {},
   "outputs": [],
   "source": [
    "df_new.drop('품목명',axis=1,inplace=True)"
   ]
  },
  {
   "cell_type": "code",
   "execution_count": 17,
   "id": "b294f365",
   "metadata": {},
   "outputs": [],
   "source": [
    "df_new.drop('성상',axis=1,inplace=True)"
   ]
  },
  {
   "cell_type": "code",
   "execution_count": 18,
   "id": "f8e13ab0",
   "metadata": {},
   "outputs": [
    {
     "data": {
      "text/plain": [
       "Index(['제품명', '모양', '제조업체', '유효성분', '효능', '이미지', '의약품제형', '색상', '분할선'], dtype='object')"
      ]
     },
     "execution_count": 18,
     "metadata": {},
     "output_type": "execute_result"
    }
   ],
   "source": [
    "df_new.columns"
   ]
  },
  {
   "cell_type": "code",
   "execution_count": null,
   "id": "462763c4",
   "metadata": {},
   "outputs": [],
   "source": []
  },
  {
   "cell_type": "code",
   "execution_count": 19,
   "id": "2814a452",
   "metadata": {},
   "outputs": [],
   "source": [
    "col_list = ['name','shape','manufacturer','ingredient', 'efficacy','image_url','formulation','color','divide_line']"
   ]
  },
  {
   "cell_type": "code",
   "execution_count": 20,
   "id": "d2bf7796",
   "metadata": {},
   "outputs": [],
   "source": [
    "df_new.columns = col_list"
   ]
  },
  {
   "cell_type": "code",
   "execution_count": null,
   "id": "10f319b1",
   "metadata": {},
   "outputs": [],
   "source": [
    "제품명 / 성상 / 모양 / 제조업체 / 유효성분 / 효능 / 이미지 / 색상 / 분할선\n",
    "name / appearance /shape / manufacturer/ / efficacy /  image_url / color / divide_line"
   ]
  },
  {
   "cell_type": "code",
   "execution_count": 21,
   "id": "007ad6c0",
   "metadata": {},
   "outputs": [
    {
     "data": {
      "text/html": [
       "<div>\n",
       "<style scoped>\n",
       "    .dataframe tbody tr th:only-of-type {\n",
       "        vertical-align: middle;\n",
       "    }\n",
       "\n",
       "    .dataframe tbody tr th {\n",
       "        vertical-align: top;\n",
       "    }\n",
       "\n",
       "    .dataframe thead th {\n",
       "        text-align: right;\n",
       "    }\n",
       "</style>\n",
       "<table border=\"1\" class=\"dataframe\">\n",
       "  <thead>\n",
       "    <tr style=\"text-align: right;\">\n",
       "      <th></th>\n",
       "      <th>name</th>\n",
       "      <th>shape</th>\n",
       "      <th>manufacturer</th>\n",
       "      <th>ingredient</th>\n",
       "      <th>efficacy</th>\n",
       "      <th>image_url</th>\n",
       "      <th>formulation</th>\n",
       "      <th>color</th>\n",
       "      <th>divide_line</th>\n",
       "    </tr>\n",
       "  </thead>\n",
       "  <tbody>\n",
       "    <tr>\n",
       "      <th>0</th>\n",
       "      <td>가바민정(레바미피드)</td>\n",
       "      <td>원형</td>\n",
       "      <td>(주)테라젠이텍스</td>\n",
       "      <td>유효성분 : 레바미피드</td>\n",
       "      <td>1. 위궤양\\n2. 다음 질환의 위점막병변(미란, 출혈, 발적, 부종)의 개선 : ...</td>\n",
       "      <td>data:image/jpeg;base64,/9j/4QAYRXhpZgAASUkqAAg...</td>\n",
       "      <td>원형</td>\n",
       "      <td>하양</td>\n",
       "      <td>NaN</td>\n",
       "    </tr>\n",
       "    <tr>\n",
       "      <th>1</th>\n",
       "      <td>가바스탄캡슐(가바펜틴)</td>\n",
       "      <td>장방형</td>\n",
       "      <td>(주)한국파비스제약</td>\n",
       "      <td>유효성분 : 가바펜틴</td>\n",
       "      <td>1. 간질\\n1) 단독요법(새롭게 발작으로 진단된 환자의 치료 포함) : 만 13세...</td>\n",
       "      <td>data:image/jpeg;base64,/9j/4QAYRXhpZgAASUkqAAg...</td>\n",
       "      <td>장방형</td>\n",
       "      <td>노랑</td>\n",
       "      <td>NaN</td>\n",
       "    </tr>\n",
       "    <tr>\n",
       "      <th>2</th>\n",
       "      <td>가바스탄캡슐100mg(가바펜틴)</td>\n",
       "      <td>장방형</td>\n",
       "      <td>(주)한국파비스제약</td>\n",
       "      <td>유효성분 : 가바펜틴</td>\n",
       "      <td>1. 간질\\n1) 단독요법(새롭게 발작으로 진단된 환자의 치료 포함) : 만 13세...</td>\n",
       "      <td>data:image/jpeg;base64,/9j/4Qq1RXhpZgAATU0AKgA...</td>\n",
       "      <td>장방형</td>\n",
       "      <td>노랑</td>\n",
       "      <td>NaN</td>\n",
       "    </tr>\n",
       "    <tr>\n",
       "      <th>3</th>\n",
       "      <td>가바스틸캡슐100mg(가바펜틴)</td>\n",
       "      <td>장방형</td>\n",
       "      <td>한국휴텍스제약(주)</td>\n",
       "      <td>유효성분 : 가바펜틴</td>\n",
       "      <td>1. 간질\\n1) 단독요법(새롭게 발작으로 진단된 환자의 치료 포함) : 만 13세...</td>\n",
       "      <td>data:image/jpeg;base64,/9j/4QrCRXhpZgAATU0AKgA...</td>\n",
       "      <td>장방형</td>\n",
       "      <td>하양</td>\n",
       "      <td>NaN</td>\n",
       "    </tr>\n",
       "    <tr>\n",
       "      <th>4</th>\n",
       "      <td>가바스틸캡슐300mg(가바펜틴)</td>\n",
       "      <td>장방형</td>\n",
       "      <td>한국휴텍스제약(주)</td>\n",
       "      <td>유효성분 : 가바펜틴</td>\n",
       "      <td>1. 간질\\n1) 단독요법(새롭게 발작으로 진단된 환자의 치료 포함) : 만 13세...</td>\n",
       "      <td>data:image/jpeg;base64,/9j/4QAYRXhpZgAASUkqAAg...</td>\n",
       "      <td>장방형</td>\n",
       "      <td>노랑</td>\n",
       "      <td>NaN</td>\n",
       "    </tr>\n",
       "    <tr>\n",
       "      <th>...</th>\n",
       "      <td>...</td>\n",
       "      <td>...</td>\n",
       "      <td>...</td>\n",
       "      <td>...</td>\n",
       "      <td>...</td>\n",
       "      <td>...</td>\n",
       "      <td>...</td>\n",
       "      <td>...</td>\n",
       "      <td>...</td>\n",
       "    </tr>\n",
       "    <tr>\n",
       "      <th>401</th>\n",
       "      <td>경동에페리손염산염정(수출용)</td>\n",
       "      <td>NaN</td>\n",
       "      <td>경동제약(주)</td>\n",
       "      <td>유효성분 : 에페리손염산염</td>\n",
       "      <td>1. 근골격계질환에 수반하는 동통성 근육연축\\n경견완증후군, 견관절주위염, 요통\\n...</td>\n",
       "      <td>NaN</td>\n",
       "      <td>NaN</td>\n",
       "      <td>NaN</td>\n",
       "      <td>NaN</td>\n",
       "    </tr>\n",
       "    <tr>\n",
       "      <th>402</th>\n",
       "      <td>경동염산아젤라스틴(원료)</td>\n",
       "      <td>NaN</td>\n",
       "      <td>경동제약(주)</td>\n",
       "      <td>NaN</td>\n",
       "      <td>의약품 조제 또는 제조용\\n</td>\n",
       "      <td>NaN</td>\n",
       "      <td>NaN</td>\n",
       "      <td>NaN</td>\n",
       "      <td>NaN</td>\n",
       "    </tr>\n",
       "    <tr>\n",
       "      <th>403</th>\n",
       "      <td>경동염산에페리손(원료)</td>\n",
       "      <td>NaN</td>\n",
       "      <td>경동제약(주)</td>\n",
       "      <td>NaN</td>\n",
       "      <td>의약품 조제 또는 제조용\\n</td>\n",
       "      <td>NaN</td>\n",
       "      <td>NaN</td>\n",
       "      <td>NaN</td>\n",
       "      <td>NaN</td>\n",
       "    </tr>\n",
       "    <tr>\n",
       "      <th>404</th>\n",
       "      <td>경동염산탐스로신(원료)(수입)</td>\n",
       "      <td>NaN</td>\n",
       "      <td>경동제약(주)</td>\n",
       "      <td>유효성분 : 염산탐스로신</td>\n",
       "      <td>의약품 조제 또는 제조용\\n</td>\n",
       "      <td>NaN</td>\n",
       "      <td>NaN</td>\n",
       "      <td>NaN</td>\n",
       "      <td>NaN</td>\n",
       "    </tr>\n",
       "    <tr>\n",
       "      <th>405</th>\n",
       "      <td>경동염산티로프라미드</td>\n",
       "      <td>NaN</td>\n",
       "      <td>경동제약(주)</td>\n",
       "      <td>NaN</td>\n",
       "      <td>의약품 조제 또는 제조용\\n</td>\n",
       "      <td>NaN</td>\n",
       "      <td>NaN</td>\n",
       "      <td>NaN</td>\n",
       "      <td>NaN</td>\n",
       "    </tr>\n",
       "  </tbody>\n",
       "</table>\n",
       "<p>406 rows × 9 columns</p>\n",
       "</div>"
      ],
      "text/plain": [
       "                  name shape manufacturer      ingredient  \\\n",
       "0          가바민정(레바미피드)    원형    (주)테라젠이텍스    유효성분 : 레바미피드   \n",
       "1         가바스탄캡슐(가바펜틴)   장방형   (주)한국파비스제약     유효성분 : 가바펜틴   \n",
       "2    가바스탄캡슐100mg(가바펜틴)   장방형   (주)한국파비스제약     유효성분 : 가바펜틴   \n",
       "3    가바스틸캡슐100mg(가바펜틴)   장방형   한국휴텍스제약(주)     유효성분 : 가바펜틴   \n",
       "4    가바스틸캡슐300mg(가바펜틴)   장방형   한국휴텍스제약(주)     유효성분 : 가바펜틴   \n",
       "..                 ...   ...          ...             ...   \n",
       "401    경동에페리손염산염정(수출용)   NaN      경동제약(주)  유효성분 : 에페리손염산염   \n",
       "402      경동염산아젤라스틴(원료)   NaN      경동제약(주)             NaN   \n",
       "403       경동염산에페리손(원료)   NaN      경동제약(주)             NaN   \n",
       "404   경동염산탐스로신(원료)(수입)   NaN      경동제약(주)   유효성분 : 염산탐스로신   \n",
       "405         경동염산티로프라미드   NaN      경동제약(주)             NaN   \n",
       "\n",
       "                                              efficacy  \\\n",
       "0    1. 위궤양\\n2. 다음 질환의 위점막병변(미란, 출혈, 발적, 부종)의 개선 : ...   \n",
       "1    1. 간질\\n1) 단독요법(새롭게 발작으로 진단된 환자의 치료 포함) : 만 13세...   \n",
       "2    1. 간질\\n1) 단독요법(새롭게 발작으로 진단된 환자의 치료 포함) : 만 13세...   \n",
       "3    1. 간질\\n1) 단독요법(새롭게 발작으로 진단된 환자의 치료 포함) : 만 13세...   \n",
       "4    1. 간질\\n1) 단독요법(새롭게 발작으로 진단된 환자의 치료 포함) : 만 13세...   \n",
       "..                                                 ...   \n",
       "401  1. 근골격계질환에 수반하는 동통성 근육연축\\n경견완증후군, 견관절주위염, 요통\\n...   \n",
       "402                                    의약품 조제 또는 제조용\\n   \n",
       "403                                    의약품 조제 또는 제조용\\n   \n",
       "404                                    의약품 조제 또는 제조용\\n   \n",
       "405                                    의약품 조제 또는 제조용\\n   \n",
       "\n",
       "                                             image_url formulation color  \\\n",
       "0    data:image/jpeg;base64,/9j/4QAYRXhpZgAASUkqAAg...          원형    하양   \n",
       "1    data:image/jpeg;base64,/9j/4QAYRXhpZgAASUkqAAg...         장방형    노랑   \n",
       "2    data:image/jpeg;base64,/9j/4Qq1RXhpZgAATU0AKgA...         장방형    노랑   \n",
       "3    data:image/jpeg;base64,/9j/4QrCRXhpZgAATU0AKgA...         장방형    하양   \n",
       "4    data:image/jpeg;base64,/9j/4QAYRXhpZgAASUkqAAg...         장방형    노랑   \n",
       "..                                                 ...         ...   ...   \n",
       "401                                                NaN         NaN   NaN   \n",
       "402                                                NaN         NaN   NaN   \n",
       "403                                                NaN         NaN   NaN   \n",
       "404                                                NaN         NaN   NaN   \n",
       "405                                                NaN         NaN   NaN   \n",
       "\n",
       "    divide_line  \n",
       "0           NaN  \n",
       "1           NaN  \n",
       "2           NaN  \n",
       "3           NaN  \n",
       "4           NaN  \n",
       "..          ...  \n",
       "401         NaN  \n",
       "402         NaN  \n",
       "403         NaN  \n",
       "404         NaN  \n",
       "405         NaN  \n",
       "\n",
       "[406 rows x 9 columns]"
      ]
     },
     "execution_count": 21,
     "metadata": {},
     "output_type": "execute_result"
    }
   ],
   "source": [
    "df_new"
   ]
  },
  {
   "cell_type": "code",
   "execution_count": 27,
   "id": "053b3e21",
   "metadata": {},
   "outputs": [],
   "source": [
    "df_new.to_csv('medicine_sample.csv',encoding='utf-8-sig')"
   ]
  },
  {
   "cell_type": "code",
   "execution_count": null,
   "id": "93dbd7a3",
   "metadata": {},
   "outputs": [],
   "source": []
  },
  {
   "cell_type": "markdown",
   "id": "637a50ab",
   "metadata": {},
   "source": [
    "## 2회"
   ]
  },
  {
   "cell_type": "markdown",
   "id": "194d1071",
   "metadata": {},
   "source": [
    "https://nedrug.mfds.go.kr/searchDrug?sort=&sortOrder=false&searchYn=&ExcelRowdata=&page=1438&searchDivision=detail&itemName=&entpName=&ingrName1=&ingrName2=&ingrName3=&itemSeq=&stdrCodeName=&atcCodeName=&indutyClassCode=A0&sClassNo=&narcoticKindCode=&cancelCode=&etcOtcCode=&makeMaterialGb=&searchConEe=AND&eeDocData=&searchConUd=AND&udDocData=&searchConNb=AND&nbDocData=&startPermitDate=&endPermitDate="
   ]
  },
  {
   "cell_type": "markdown",
   "id": "e09f085a",
   "metadata": {},
   "source": [
    "## 3회"
   ]
  },
  {
   "cell_type": "markdown",
   "id": "e9016f89",
   "metadata": {},
   "source": [
    "https://nedrug.mfds.go.kr/searchDrug?sort=&sortOrder=false&searchYn=&ExcelRowdata=&page=2438&searchDivision=detail&itemName=&entpName=&ingrName1=&ingrName2=&ingrName3=&itemSeq=&stdrCodeName=&atcCodeName=&indutyClassCode=A0&sClassNo=&narcoticKindCode=&cancelCode=&etcOtcCode=&makeMaterialGb=&searchConEe=AND&eeDocData=&searchConUd=AND&udDocData=&searchConNb=AND&nbDocData=&startPermitDate=&endPermitDate="
   ]
  },
  {
   "cell_type": "markdown",
   "id": "4382f8ca",
   "metadata": {},
   "source": [
    "### 4회"
   ]
  },
  {
   "cell_type": "markdown",
   "id": "22f959f4",
   "metadata": {},
   "source": [
    "https://nedrug.mfds.go.kr/searchDrug?sort=&sortOrder=false&searchYn=&ExcelRowdata=&page=2495&searchDivision=detail&itemName=&entpName=&ingrName1=&ingrName2=&ingrName3=&itemSeq=&stdrCodeName=&atcCodeName=&indutyClassCode=A0&sClassNo=&narcoticKindCode=&cancelCode=&etcOtcCode=&makeMaterialGb=&searchConEe=AND&eeDocData=&searchConUd=AND&udDocData=&searchConNb=AND&nbDocData=&startPermitDate=&endPermitDate="
   ]
  },
  {
   "cell_type": "markdown",
   "id": "8022ffb1",
   "metadata": {},
   "source": [
    "### 5회"
   ]
  },
  {
   "cell_type": "markdown",
   "id": "e8ae2ceb",
   "metadata": {},
   "source": [
    "https://nedrug.mfds.go.kr/searchDrug?sort=&sortOrder=false&searchYn=&ExcelRowdata=&page=2966&searchDivision=detail&itemName=&entpName=&ingrName1=&ingrName2=&ingrName3=&itemSeq=&stdrCodeName=&atcCodeName=&indutyClassCode=A0&sClassNo=&narcoticKindCode=&cancelCode=&etcOtcCode=&makeMaterialGb=&searchConEe=AND&eeDocData=&searchConUd=AND&udDocData=&searchConNb=AND&nbDocData=&startPermitDate=&endPermitDate="
   ]
  },
  {
   "cell_type": "code",
   "execution_count": null,
   "id": "8d58df4a",
   "metadata": {},
   "outputs": [],
   "source": []
  },
  {
   "cell_type": "code",
   "execution_count": null,
   "id": "9019a14d",
   "metadata": {},
   "outputs": [],
   "source": []
  },
  {
   "cell_type": "code",
   "execution_count": null,
   "id": "c70ffa68",
   "metadata": {},
   "outputs": [],
   "source": []
  },
  {
   "cell_type": "code",
   "execution_count": null,
   "id": "84e9bc17",
   "metadata": {},
   "outputs": [],
   "source": []
  },
  {
   "cell_type": "code",
   "execution_count": null,
   "id": "f3754be8",
   "metadata": {},
   "outputs": [],
   "source": []
  }
 ],
 "metadata": {
  "kernelspec": {
   "display_name": "Python 3 (ipykernel)",
   "language": "python",
   "name": "python3"
  },
  "language_info": {
   "codemirror_mode": {
    "name": "ipython",
    "version": 3
   },
   "file_extension": ".py",
   "mimetype": "text/x-python",
   "name": "python",
   "nbconvert_exporter": "python",
   "pygments_lexer": "ipython3",
   "version": "3.9.7"
  }
 },
 "nbformat": 4,
 "nbformat_minor": 5
}
