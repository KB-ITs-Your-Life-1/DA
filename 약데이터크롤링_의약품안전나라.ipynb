{
 "cells": [
  {
   "cell_type": "code",
   "execution_count": 1,
   "id": "a46ddbcf",
   "metadata": {},
   "outputs": [],
   "source": [
    "import requests\n",
    "import sys\n",
    "from bs4 import BeautifulSoup\n",
    "from selenium import webdriver\n",
    "from selenium.webdriver.common.by import By"
   ]
  },
  {
   "cell_type": "markdown",
   "id": "fcd74611",
   "metadata": {},
   "source": [
    "### 정보하나 크롤링"
   ]
  },
  {
   "cell_type": "code",
   "execution_count": null,
   "id": "3b84ede8",
   "metadata": {},
   "outputs": [],
   "source": [
    "url = 'https://nedrug.mfds.go.kr/searchDrug?sort=&sortOrder=false&searchYn=true&ExcelRowdata=&page=1&searchDivision=detail&itemName=&entpName=&ingrName1=&ingrName2=&ingrName3=&itemSeq=&stdrCodeName=&atcCodeName=&indutyClassCode=A0&sClassNo=&narcoticKindCode=&cancelCode=&etcOtcCode=&makeMaterialGb=&searchConEe=AND&eeDocData=&searchConUd=AND&udDocData=&searchConNb=AND&nbDocData=&startPermitDate=&endPermitDate='"
   ]
  },
  {
   "cell_type": "code",
   "execution_count": null,
   "id": "a03336ad",
   "metadata": {},
   "outputs": [],
   "source": [
    "driver = webdriver.Chrome('./chromedriver')"
   ]
  },
  {
   "cell_type": "code",
   "execution_count": null,
   "id": "bb0d5cd0",
   "metadata": {},
   "outputs": [],
   "source": [
    "driver.get(url)\n",
    "driver.maximize_window()"
   ]
  },
  {
   "cell_type": "markdown",
   "id": "a85c1241",
   "metadata": {},
   "source": [
    "### xpath로 '제품명' 선택하기\n",
    "\n",
    "규칙 \n",
    "1. //*[@id=\"con_body\"]/div[2]/div[3]/div[3]/table/tbody/tr[1]/td[2]/span[2]/a\n",
    "2. //*[@id=\"con_body\"]/div[2]/div[3]/div[3]/table/tbody/tr[2]/td[2]/span[2]/a\n",
    "3. //*[@id=\"con_body\"]/div[2]/div[3]/div[3]/table/tbody/tr[3]/td[2]/span[2]/a"
   ]
  },
  {
   "cell_type": "code",
   "execution_count": null,
   "id": "48e38ce9",
   "metadata": {},
   "outputs": [],
   "source": [
    "i = 1\n",
    "xpath = f'//*[@id=\"con_body\"]/div[2]/div[3]/div[3]/table/tbody/tr[{i}]/td[2]/span[2]/a'\n",
    "tem = driver.find_element_by_xpath(xpath)\n",
    "tem.click()"
   ]
  },
  {
   "cell_type": "markdown",
   "id": "f40d70f8",
   "metadata": {},
   "source": [
    "### tap 이동"
   ]
  },
  {
   "cell_type": "code",
   "execution_count": null,
   "id": "9ddc712c",
   "metadata": {},
   "outputs": [],
   "source": [
    "driver.window_handles \n",
    "last_tab = driver.window_handles[-1]\n",
    "driver.switch_to.window(window_name=last_tab)"
   ]
  },
  {
   "cell_type": "code",
   "execution_count": null,
   "id": "c92a8543",
   "metadata": {},
   "outputs": [],
   "source": [
    "#제품명\n",
    "name_selector = '#content > section > div.drug_info_top.notPkInfo.not_button > div.r_sec > table > tbody > tr:nth-child(1) > td > span'\n",
    "# '#content > section > div.drug_info_top.notPkInfo.not_button > div.r_sec > table > tbody > tr:nth-child(1) > td > span'\n",
    "name = soup.select_one(name_selector).get_text()\n",
    "name\n",
    "\n"
   ]
  },
  {
   "cell_type": "code",
   "execution_count": null,
   "id": "5fe435b9",
   "metadata": {},
   "outputs": [],
   "source": [
    "#제조(수입) 업체명\n",
    "botton4 = soup.select('#content > section > div.drug_info_top.notPkInfo.not_button > div.r_sec > table > tbody > tr:nth-child(4) > th')[0].get_text()\n",
    "if botton4 == '업체명':\n",
    "    company_selector = '#content > section > div.drug_info_top.notPkInfo.not_button > div.r_sec > table > tbody > tr:nth-child(4) > td > button'\n",
    "    company = soup.select_one(company_selector).get_text()\n",
    "    company\n",
    "\n",
    "else:\n",
    "    company_selector = '#content > section > div.drug_info_top.notPkInfo.not_button > div.r_sec > table > tbody > tr:nth-child(3) > td > button'\n",
    "    company = soup.select_one(company_selector).get_text()\n",
    "    company\n",
    "\n",
    "company"
   ]
  },
  {
   "cell_type": "code",
   "execution_count": null,
   "id": "943f20c3",
   "metadata": {},
   "outputs": [],
   "source": [
    "# 원료약품 및 분량\n",
    "ingredients_selector = '#scroll_02 > h3'\n",
    "if not(soup.select_one(ingredients_selector)is None):\n",
    "    ingredients = soup.select_one(ingredients_selector).get_text()\n",
    "    ingredients"
   ]
  },
  {
   "cell_type": "code",
   "execution_count": null,
   "id": "3a916c7e",
   "metadata": {},
   "outputs": [],
   "source": [
    "# 효능효과\n",
    "effect_selector = '#_ee_doc p'\n",
    "effect = ''\n",
    "if not(soup.select(effect_selector) is None):\n",
    "    for i in range(len(soup.select(effect_selector))):\n",
    "        effect += soup.select(effect_selector)[i].get_text()\n",
    "        effect += '\\n'\n",
    "print(effect)\n",
    "    \n",
    "    "
   ]
  },
  {
   "cell_type": "code",
   "execution_count": null,
   "id": "c825f118",
   "metadata": {},
   "outputs": [],
   "source": [
    "# 용법용량\n",
    "usage_selector = '#_ud_doc'\n",
    "if not(soup.select(usage_selector) is None):\n",
    "    for i in range(len(soup.select(usage_selector))):\n",
    "        usage = soup.select(usage_selector)[i].get_text()\n",
    "usage"
   ]
  },
  {
   "cell_type": "code",
   "execution_count": null,
   "id": "1df96cc5",
   "metadata": {},
   "outputs": [],
   "source": [
    "# 사용상의주의사항\n",
    "caution_selector = '#_nb_doc'\n",
    "if not(soup.select(caution_selector) is None):\n",
    "    for i in range(len(soup.select(caution_selector))):\n",
    "        caution = soup.select(caution_selector)[i].get_text()\n",
    "    caution = caution.strip()\n",
    "caution\n"
   ]
  },
  {
   "cell_type": "code",
   "execution_count": null,
   "id": "d528c9f3",
   "metadata": {},
   "outputs": [],
   "source": [
    "#이미지\n",
    "image_selector='#scroll_01 > div > div > img'\n",
    "image=''\n",
    "if (len(soup.select(image_selector))== 0):\n",
    "    print(\"이미지없음\")\n",
    "else :\n",
    "    image = soup.select(image_selector)[0].get('src')\n",
    "    \n",
    "image"
   ]
  },
  {
   "cell_type": "code",
   "execution_count": null,
   "id": "4aaca539",
   "metadata": {},
   "outputs": [],
   "source": []
  },
  {
   "cell_type": "code",
   "execution_count": null,
   "id": "84da21cc",
   "metadata": {},
   "outputs": [],
   "source": []
  },
  {
   "cell_type": "markdown",
   "id": "312a241e",
   "metadata": {},
   "source": [
    "# 전체 (5만건) 크롤링"
   ]
  },
  {
   "cell_type": "code",
   "execution_count": null,
   "id": "284d387b",
   "metadata": {},
   "outputs": [],
   "source": [
    "import requests\n",
    "import sys\n",
    "from bs4 import BeautifulSoup\n",
    "from selenium import webdriver\n",
    "from selenium.webdriver.common.by import By\n",
    "import pandas as pd\n",
    "\n",
    "# 제품명 name\n",
    "# 업체명 company\n",
    "# 원료약품 및 분량 ingredient \n",
    "# 효능효과 effect\n",
    "# 용법용량 usage\n",
    "# 사용상의주의사항 caution\n",
    "\n",
    "name_list = []\n",
    "company_list = []\n",
    "ingredients_list=[]\n",
    "effect_list = []\n",
    "usage_list = []\n",
    "caution_list = []\n",
    "image_list=[]\n",
    "\n",
    "url = 'https://nedrug.mfds.go.kr/searchDrug?sort=&sortOrder=false&searchYn=true&ExcelRowdata=&page=1&searchDivision=detail&itemName=&entpName=&ingrName1=&ingrName2=&ingrName3=&itemSeq=&stdrCodeName=&atcCodeName=&indutyClassCode=A0&sClassNo=&narcoticKindCode=&cancelCode=&etcOtcCode=&makeMaterialGb=&searchConEe=AND&eeDocData=&searchConUd=AND&udDocData=&searchConNb=AND&nbDocData=&startPermitDate=&endPermitDate='\n",
    "driver = webdriver.Chrome('./chromedriver')\n",
    "driver.get(url)\n",
    "driver.maximize_window()\n",
    "\n",
    "for step in range(10,20): #다음을 눌러야 하는 횟수 3400\n",
    "    for i in range(11,15): #한페이지에 보이는 데이터 수 \n",
    "        #제품명 선택\n",
    "        xpath = f'//*[@id=\"con_body\"]/div[2]/div[3]/div[3]/table/tbody/tr[{i+1}]/td[2]/span[2]/a'\n",
    "        tem = driver.find_element_by_xpath(xpath)\n",
    "        tem.click()\n",
    "        \n",
    "        #탭이동\n",
    "        last_tab = driver.window_handles[-1]\n",
    "        driver.switch_to.window(window_name=last_tab)\n",
    "        \n",
    "        #html받아오기\n",
    "        html = driver.page_source\n",
    "        soup = BeautifulSoup(html, 'html.parser')\n",
    "        \n",
    "        \n",
    "        # 제품명\n",
    "        name_selector = '#content > section > div.drug_info_top.notPkInfo.not_button > div.r_sec > table > tbody > tr:nth-child(1) > td > span'\n",
    "        name=''\n",
    "        name = soup.select_one(name_selector).get_text()\n",
    "        name_list.append(name)\n",
    "        \n",
    "        #제조(수입) 업체명\n",
    "        botton4 = soup.select('#content > section > div.drug_info_top.notPkInfo.not_button > div.r_sec > table > tbody > tr:nth-child(4) > th')[0].get_text()\n",
    "        if botton4 == '업체명':\n",
    "            company_selector = '#content > section > div.drug_info_top.notPkInfo.not_button > div.r_sec > table > tbody > tr:nth-child(4) > td > button'\n",
    "            company = soup.select_one(company_selector).get_text()\n",
    "            company_list.append(company)\n",
    "\n",
    "        else:\n",
    "            company_selector = '#content > section > div.drug_info_top.notPkInfo.not_button > div.r_sec > table > tbody > tr:nth-child(3) > td > button'\n",
    "            company = soup.select_one(company_selector).get_text()\n",
    "            company_list.append(company)\n",
    "\n",
    "        # 원료약품 및 분량\n",
    "        ingredients_selector = '#scroll_02 > h3'\n",
    "        ingredients=''\n",
    "        if not(soup.select_one(ingredients_selector)is None):\n",
    "            ingredients = soup.select_one(ingredients_selector).get_text()\n",
    "        ingredients_list.append(ingredients)\n",
    "\n",
    "        # 효능효과\n",
    "        effect_selector = '#_ee_doc p'\n",
    "        effect = ''\n",
    "        if not(soup.select(effect_selector) is None):\n",
    "            for i in range(len(soup.select(effect_selector))):\n",
    "                effect += soup.select(effect_selector)[i].get_text()\n",
    "                effect += '\\n'\n",
    "        effect_list.append(effect)\n",
    "\n",
    "        # 용법용량\n",
    "        usage_selector = '#_ud_doc'\n",
    "        usage=''\n",
    "        if not(soup.select(usage_selector) is None):\n",
    "            for i in range(len(soup.select(usage_selector))):\n",
    "                usage = soup.select(usage_selector)[i].get_text()\n",
    "        usage_list.append(usage)\n",
    "\n",
    "        # 사용상의주의사항\n",
    "        caution_selector = '#_nb_doc'\n",
    "        caution=''\n",
    "        if not(soup.select(caution_selector) is None):\n",
    "            for i in range(len(soup.select(caution_selector))):\n",
    "                caution = soup.select(caution_selector)[i].get_text()\n",
    "        caution_list.append(caution)\n",
    "        \n",
    "        #이미지\n",
    "        image_selector='#scroll_01 > div > div > img'\n",
    "        image=''\n",
    "        if (len(soup.select(image_selector))!= 0):\n",
    "            image = soup.select(image_selector)[0].get('src')\n",
    "            image_list.append(image)\n",
    "        else :\n",
    "            image_list.append(image)\n",
    "        \n",
    "        #탭 다시 이동\n",
    "        last_tab = driver.window_handles[0]\n",
    "        driver.switch_to.window(window_name=last_tab)\n",
    "       \n",
    "    #다음버튼 클릭\n",
    "    tem = driver.find_element_by_xpath('//*[@id=\"paging_div\"]/p/button[3]')\n",
    "    tem.click()"
   ]
  },
  {
   "cell_type": "code",
   "execution_count": null,
   "id": "76d5db4e",
   "metadata": {},
   "outputs": [],
   "source": [
    "df= pd.concat([pd.DataFrame(name_list),\n",
    "pd.DataFrame(company_list),\n",
    "pd.DataFrame(ingredients_list),\n",
    "pd.DataFrame(effect_list),\n",
    "pd.DataFrame(usage_list),\n",
    "pd.DataFrame(caution_list),\n",
    "pd.DataFrame(image_list)],axis=1)\n",
    "df.columns = ['제품명','제조업체','유효성분','효능','용법','주의사항','이미지']\n"
   ]
  },
  {
   "cell_type": "code",
   "execution_count": null,
   "id": "5e68d9fa",
   "metadata": {},
   "outputs": [],
   "source": []
  }
 ],
 "metadata": {
  "kernelspec": {
   "display_name": "Python 3 (ipykernel)",
   "language": "python",
   "name": "python3"
  },
  "language_info": {
   "codemirror_mode": {
    "name": "ipython",
    "version": 3
   },
   "file_extension": ".py",
   "mimetype": "text/x-python",
   "name": "python",
   "nbconvert_exporter": "python",
   "pygments_lexer": "ipython3",
   "version": "3.9.7"
  }
 },
 "nbformat": 4,
 "nbformat_minor": 5
}
